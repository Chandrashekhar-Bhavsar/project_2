{
 "cells": [
  {
   "cell_type": "code",
   "execution_count": 10,
   "metadata": {
    "id": "bsvcLkN8SJhh"
   },
   "outputs": [],
   "source": [
    "import pandas as pd\n",
    "import os\n",
    "os.getcwd()\n",
    "os.chdir(\"F:\\\\CDAC\\\\FINAL_PROJECT\")"
   ]
  },
  {
   "cell_type": "code",
   "execution_count": 11,
   "metadata": {},
   "outputs": [],
   "source": [
    "df=pd.read_csv(\"Main.csv\")"
   ]
  },
  {
   "cell_type": "code",
   "execution_count": 12,
   "metadata": {
    "colab": {
     "base_uri": "https://localhost:8080/",
     "height": 270
    },
    "id": "eJyoW4yESdcW",
    "outputId": "665e2619-0834-483a-ae65-6800e42ee564"
   },
   "outputs": [
    {
     "data": {
      "text/html": [
       "<div>\n",
       "<style scoped>\n",
       "    .dataframe tbody tr th:only-of-type {\n",
       "        vertical-align: middle;\n",
       "    }\n",
       "\n",
       "    .dataframe tbody tr th {\n",
       "        vertical-align: top;\n",
       "    }\n",
       "\n",
       "    .dataframe thead th {\n",
       "        text-align: right;\n",
       "    }\n",
       "</style>\n",
       "<table border=\"1\" class=\"dataframe\">\n",
       "  <thead>\n",
       "    <tr style=\"text-align: right;\">\n",
       "      <th></th>\n",
       "      <th>X_STATE</th>\n",
       "      <th>FMONTH</th>\n",
       "      <th>IDATE</th>\n",
       "      <th>IMONTH</th>\n",
       "      <th>IDAY</th>\n",
       "      <th>IYEAR</th>\n",
       "      <th>DISPCODE</th>\n",
       "      <th>SEQNO</th>\n",
       "      <th>X_PSU</th>\n",
       "      <th>CTELENM1</th>\n",
       "      <th>...</th>\n",
       "      <th>X_RFPSA23</th>\n",
       "      <th>X_CLNSCPY</th>\n",
       "      <th>X_SGMSCPY</th>\n",
       "      <th>X_SGMS10Y</th>\n",
       "      <th>X_RFBLDS4</th>\n",
       "      <th>X_STOLDNA</th>\n",
       "      <th>X_VIRCOLN</th>\n",
       "      <th>X_SBONTIM</th>\n",
       "      <th>X_CRCREC1</th>\n",
       "      <th>X_AIDTST4</th>\n",
       "    </tr>\n",
       "  </thead>\n",
       "  <tbody>\n",
       "    <tr>\n",
       "      <th>0</th>\n",
       "      <td>1</td>\n",
       "      <td>1</td>\n",
       "      <td>1042020</td>\n",
       "      <td>1</td>\n",
       "      <td>4</td>\n",
       "      <td>2020</td>\n",
       "      <td>1100</td>\n",
       "      <td>2020000001</td>\n",
       "      <td>2020000001</td>\n",
       "      <td>1.0</td>\n",
       "      <td>...</td>\n",
       "      <td>NaN</td>\n",
       "      <td>1.0</td>\n",
       "      <td>3.0</td>\n",
       "      <td>3.0</td>\n",
       "      <td>3.0</td>\n",
       "      <td>3.0</td>\n",
       "      <td>3.0</td>\n",
       "      <td>3.0</td>\n",
       "      <td>1.0</td>\n",
       "      <td>1.0</td>\n",
       "    </tr>\n",
       "    <tr>\n",
       "      <th>1</th>\n",
       "      <td>1</td>\n",
       "      <td>1</td>\n",
       "      <td>2072020</td>\n",
       "      <td>2</td>\n",
       "      <td>7</td>\n",
       "      <td>2020</td>\n",
       "      <td>1200</td>\n",
       "      <td>2020000002</td>\n",
       "      <td>2020000002</td>\n",
       "      <td>1.0</td>\n",
       "      <td>...</td>\n",
       "      <td>NaN</td>\n",
       "      <td>NaN</td>\n",
       "      <td>NaN</td>\n",
       "      <td>NaN</td>\n",
       "      <td>NaN</td>\n",
       "      <td>NaN</td>\n",
       "      <td>NaN</td>\n",
       "      <td>2.0</td>\n",
       "      <td>NaN</td>\n",
       "      <td>NaN</td>\n",
       "    </tr>\n",
       "    <tr>\n",
       "      <th>2</th>\n",
       "      <td>1</td>\n",
       "      <td>1</td>\n",
       "      <td>1232020</td>\n",
       "      <td>1</td>\n",
       "      <td>23</td>\n",
       "      <td>2020</td>\n",
       "      <td>1100</td>\n",
       "      <td>2020000003</td>\n",
       "      <td>2020000003</td>\n",
       "      <td>1.0</td>\n",
       "      <td>...</td>\n",
       "      <td>NaN</td>\n",
       "      <td>1.0</td>\n",
       "      <td>3.0</td>\n",
       "      <td>3.0</td>\n",
       "      <td>3.0</td>\n",
       "      <td>3.0</td>\n",
       "      <td>3.0</td>\n",
       "      <td>3.0</td>\n",
       "      <td>1.0</td>\n",
       "      <td>2.0</td>\n",
       "    </tr>\n",
       "    <tr>\n",
       "      <th>3</th>\n",
       "      <td>1</td>\n",
       "      <td>1</td>\n",
       "      <td>1092020</td>\n",
       "      <td>1</td>\n",
       "      <td>9</td>\n",
       "      <td>2020</td>\n",
       "      <td>1100</td>\n",
       "      <td>2020000004</td>\n",
       "      <td>2020000004</td>\n",
       "      <td>1.0</td>\n",
       "      <td>...</td>\n",
       "      <td>NaN</td>\n",
       "      <td>NaN</td>\n",
       "      <td>NaN</td>\n",
       "      <td>NaN</td>\n",
       "      <td>NaN</td>\n",
       "      <td>NaN</td>\n",
       "      <td>NaN</td>\n",
       "      <td>NaN</td>\n",
       "      <td>NaN</td>\n",
       "      <td>2.0</td>\n",
       "    </tr>\n",
       "    <tr>\n",
       "      <th>4</th>\n",
       "      <td>1</td>\n",
       "      <td>1</td>\n",
       "      <td>1042020</td>\n",
       "      <td>1</td>\n",
       "      <td>4</td>\n",
       "      <td>2020</td>\n",
       "      <td>1100</td>\n",
       "      <td>2020000005</td>\n",
       "      <td>2020000005</td>\n",
       "      <td>1.0</td>\n",
       "      <td>...</td>\n",
       "      <td>NaN</td>\n",
       "      <td>NaN</td>\n",
       "      <td>NaN</td>\n",
       "      <td>NaN</td>\n",
       "      <td>NaN</td>\n",
       "      <td>NaN</td>\n",
       "      <td>NaN</td>\n",
       "      <td>NaN</td>\n",
       "      <td>NaN</td>\n",
       "      <td>9.0</td>\n",
       "    </tr>\n",
       "  </tbody>\n",
       "</table>\n",
       "<p>5 rows × 279 columns</p>\n",
       "</div>"
      ],
      "text/plain": [
       "   X_STATE  FMONTH    IDATE  IMONTH  IDAY  IYEAR  DISPCODE       SEQNO  \\\n",
       "0        1       1  1042020       1     4   2020      1100  2020000001   \n",
       "1        1       1  2072020       2     7   2020      1200  2020000002   \n",
       "2        1       1  1232020       1    23   2020      1100  2020000003   \n",
       "3        1       1  1092020       1     9   2020      1100  2020000004   \n",
       "4        1       1  1042020       1     4   2020      1100  2020000005   \n",
       "\n",
       "        X_PSU  CTELENM1  ...  X_RFPSA23  X_CLNSCPY  X_SGMSCPY  X_SGMS10Y  \\\n",
       "0  2020000001       1.0  ...        NaN        1.0        3.0        3.0   \n",
       "1  2020000002       1.0  ...        NaN        NaN        NaN        NaN   \n",
       "2  2020000003       1.0  ...        NaN        1.0        3.0        3.0   \n",
       "3  2020000004       1.0  ...        NaN        NaN        NaN        NaN   \n",
       "4  2020000005       1.0  ...        NaN        NaN        NaN        NaN   \n",
       "\n",
       "   X_RFBLDS4  X_STOLDNA  X_VIRCOLN  X_SBONTIM  X_CRCREC1  X_AIDTST4  \n",
       "0        3.0        3.0        3.0        3.0        1.0        1.0  \n",
       "1        NaN        NaN        NaN        2.0        NaN        NaN  \n",
       "2        3.0        3.0        3.0        3.0        1.0        2.0  \n",
       "3        NaN        NaN        NaN        NaN        NaN        2.0  \n",
       "4        NaN        NaN        NaN        NaN        NaN        9.0  \n",
       "\n",
       "[5 rows x 279 columns]"
      ]
     },
     "execution_count": 12,
     "metadata": {},
     "output_type": "execute_result"
    }
   ],
   "source": [
    "df.head()"
   ]
  },
  {
   "cell_type": "code",
   "execution_count": 13,
   "metadata": {
    "colab": {
     "base_uri": "https://localhost:8080/"
    },
    "id": "OFEoEipwSetr",
    "outputId": "080910d4-9a75-4541-d3e0-ea6670b3bfd0"
   },
   "outputs": [
    {
     "data": {
      "text/plain": [
       "(401958, 279)"
      ]
     },
     "execution_count": 13,
     "metadata": {},
     "output_type": "execute_result"
    }
   ],
   "source": [
    "df.shape"
   ]
  },
  {
   "cell_type": "code",
   "execution_count": 14,
   "metadata": {
    "id": "oCsyelN-TpW8"
   },
   "outputs": [],
   "source": [
    "import pandas as pd\n",
    "import numpy as np\n",
    "import matplotlib.pyplot as plt\n",
    "import seaborn as sns\n",
    "from sklearn.metrics import classification_report,accuracy_score\n",
    "from sklearn.model_selection import GridSearchCV\n",
    "from sklearn.metrics import confusion_matrix\n",
    "from sklearn import metrics\n",
    "%matplotlib inline\n",
    "import warnings\n",
    "warnings.simplefilter(action='ignore', category=FutureWarning)\n",
    "pd.options.mode.chained_assignment = None\n",
    "from sklearn.metrics import precision_score, recall_score, f1_score, accuracy_score,plot_roc_curve,plot_precision_recall_curve\n",
    "from sklearn.metrics import roc_curve, roc_auc_score\n",
    "from sklearn.tree import DecisionTreeClassifier \n",
    "from sklearn.svm import SVC\n",
    "from sklearn.naive_bayes import GaussianNB \n",
    "from sklearn.naive_bayes import BernoulliNB\n",
    "from sklearn.neighbors import KNeighborsClassifier \n",
    "from sklearn.linear_model import LogisticRegression\n",
    "from xgboost import XGBClassifier  \n",
    "from sklearn.ensemble import GradientBoostingClassifier\n",
    "from sklearn.metrics import precision_recall_curve\n",
    "from sklearn.ensemble import RandomForestClassifier  "
   ]
  },
  {
   "cell_type": "code",
   "execution_count": 15,
   "metadata": {
    "id": "ML19eKgLWhUN"
   },
   "outputs": [],
   "source": [
    "from sklearn.naive_bayes import GaussianNB \n",
    "from sklearn.naive_bayes import BernoulliNB\n",
    "from sklearn.linear_model import LogisticRegression\n",
    "from xgboost import XGBClassifier  \n",
    "from sklearn.ensemble import GradientBoostingClassifier\n",
    "from sklearn.ensemble import RandomForestClassifier  "
   ]
  },
  {
   "cell_type": "code",
   "execution_count": 16,
   "metadata": {
    "id": "oZeCa07s7DQK"
   },
   "outputs": [],
   "source": [
    "pd.set_option('display.max_columns', None)\n",
    "pd.set_option('display.max_rows', 5000)"
   ]
  },
  {
   "cell_type": "code",
   "execution_count": 17,
   "metadata": {
    "colab": {
     "base_uri": "https://localhost:8080/"
    },
    "id": "9wpkDHQGWqQs",
    "outputId": "8d4b8621-eef4-4680-8ffe-a163dcd49f99"
   },
   "outputs": [
    {
     "data": {
      "text/plain": [
       "Index(['X_STATE', 'FMONTH', 'IDATE', 'IMONTH', 'IDAY', 'IYEAR', 'DISPCODE',\n",
       "       'SEQNO', 'X_PSU', 'CTELENM1',\n",
       "       ...\n",
       "       'X_RFPSA23', 'X_CLNSCPY', 'X_SGMSCPY', 'X_SGMS10Y', 'X_RFBLDS4',\n",
       "       'X_STOLDNA', 'X_VIRCOLN', 'X_SBONTIM', 'X_CRCREC1', 'X_AIDTST4'],\n",
       "      dtype='object', length=279)"
      ]
     },
     "execution_count": 17,
     "metadata": {},
     "output_type": "execute_result"
    }
   ],
   "source": [
    "df.columns"
   ]
  },
  {
   "cell_type": "code",
   "execution_count": 18,
   "metadata": {
    "colab": {
     "base_uri": "https://localhost:8080/"
    },
    "id": "dI8Il19tWt-X",
    "outputId": "70b4e9c7-7903-44ca-e441-18e9304f0350"
   },
   "outputs": [
    {
     "name": "stdout",
     "output_type": "stream",
     "text": [
      "<class 'pandas.core.frame.DataFrame'>\n",
      "RangeIndex: 401958 entries, 0 to 401957\n",
      "Data columns (total 279 columns):\n",
      " #    Column     Dtype  \n",
      "---   ------     -----  \n",
      " 0    X_STATE    int64  \n",
      " 1    FMONTH     int64  \n",
      " 2    IDATE      int64  \n",
      " 3    IMONTH     int64  \n",
      " 4    IDAY       int64  \n",
      " 5    IYEAR      int64  \n",
      " 6    DISPCODE   int64  \n",
      " 7    SEQNO      int64  \n",
      " 8    X_PSU      int64  \n",
      " 9    CTELENM1   float64\n",
      " 10   PVTRESD1   float64\n",
      " 11   COLGHOUS   float64\n",
      " 12   STATERE1   float64\n",
      " 13   CELPHONE   float64\n",
      " 14   LADULT1    float64\n",
      " 15   COLGSEX    float64\n",
      " 16   NUMADULT   float64\n",
      " 17   LANDSEX    float64\n",
      " 18   NUMMEN     float64\n",
      " 19   NUMWOMEN   float64\n",
      " 20   RESPSLCT   float64\n",
      " 21   SAFETIME   float64\n",
      " 22   CTELNUM1   float64\n",
      " 23   CELLFON5   float64\n",
      " 24   CADULT1    float64\n",
      " 25   CELLSEX    float64\n",
      " 26   PVTRESD3   float64\n",
      " 27   CCLGHOUS   float64\n",
      " 28   CSTATE1    float64\n",
      " 29   LANDLINE   float64\n",
      " 30   HHADULT    float64\n",
      " 31   SEXVAR     int64  \n",
      " 32   GENHLTH    float64\n",
      " 33   PHYSHLTH   float64\n",
      " 34   MENTHLTH   float64\n",
      " 35   POORHLTH   float64\n",
      " 36   HLTHPLN1   float64\n",
      " 37   PERSDOC2   float64\n",
      " 38   MEDCOST    float64\n",
      " 39   CHECKUP1   float64\n",
      " 40   EXERANY2   float64\n",
      " 41   SLEPTIM1   float64\n",
      " 42   CVDINFR4   float64\n",
      " 43   CVDCRHD4   float64\n",
      " 44   CVDSTRK3   float64\n",
      " 45   ASTHMA3    float64\n",
      " 46   ASTHNOW    float64\n",
      " 47   CHCSCNCR   float64\n",
      " 48   CHCOCNCR   float64\n",
      " 49   CHCCOPD2   float64\n",
      " 50   HAVARTH4   float64\n",
      " 51   ADDEPEV3   float64\n",
      " 52   CHCKDNY2   float64\n",
      " 53   DIABETE4   float64\n",
      " 54   DIABAGE3   float64\n",
      " 55   LASTDEN4   float64\n",
      " 56   RMVTETH4   float64\n",
      " 57   MARITAL    float64\n",
      " 58   EDUCA      float64\n",
      " 59   RENTHOM1   float64\n",
      " 60   NUMHHOL3   float64\n",
      " 61   NUMPHON3   float64\n",
      " 62   CPDEMO1B   float64\n",
      " 63   VETERAN3   float64\n",
      " 64   EMPLOY1    float64\n",
      " 65   CHILDREN   float64\n",
      " 66   INCOME2    float64\n",
      " 67   PREGNANT   float64\n",
      " 68   WEIGHT2    float64\n",
      " 69   HEIGHT3    float64\n",
      " 70   DEAF       float64\n",
      " 71   BLIND      float64\n",
      " 72   DECIDE     float64\n",
      " 73   DIFFWALK   float64\n",
      " 74   DIFFDRES   float64\n",
      " 75   DIFFALON   float64\n",
      " 76   SMOKE100   float64\n",
      " 77   SMOKDAY2   float64\n",
      " 78   STOPSMK2   float64\n",
      " 79   LASTSMK2   float64\n",
      " 80   USENOW3    float64\n",
      " 81   ALCDAY5    float64\n",
      " 82   AVEDRNK3   float64\n",
      " 83   DRNK3GE5   float64\n",
      " 84   MAXDRNKS   float64\n",
      " 85   FLUSHOT7   float64\n",
      " 86   FLSHTMY3   float64\n",
      " 87   SHINGLE2   float64\n",
      " 88   PNEUVAC4   float64\n",
      " 89   FALL12MN   float64\n",
      " 90   FALLINJ4   float64\n",
      " 91   SEATBELT   float64\n",
      " 92   DRNKDRI2   float64\n",
      " 93   HADMAM     float64\n",
      " 94   HOWLONG    float64\n",
      " 95   HADPAP2    float64\n",
      " 96   LASTPAP2   float64\n",
      " 97   HPVTEST    float64\n",
      " 98   HPLSTTST   float64\n",
      " 99   HADHYST2   float64\n",
      " 100  PCPSAAD3   float64\n",
      " 101  PCPSADI1   float64\n",
      " 102  PCPSARE1   float64\n",
      " 103  PSATEST1   float64\n",
      " 104  PSATIME    float64\n",
      " 105  PCPSARS1   float64\n",
      " 106  COLNSCPY   float64\n",
      " 107  COLNTEST   float64\n",
      " 108  SIGMSCPY   float64\n",
      " 109  SIGMTEST   float64\n",
      " 110  BLDSTOL1   float64\n",
      " 111  LSTBLDS4   float64\n",
      " 112  STOOLDNA   float64\n",
      " 113  SDNATEST   float64\n",
      " 114  VIRCOLON   float64\n",
      " 115  VCLNTEST   float64\n",
      " 116  HIVTST7    float64\n",
      " 117  HIVTSTD3   float64\n",
      " 118  HIVRISK5   float64\n",
      " 119  PDIABTST   float64\n",
      " 120  PREDIAB1   float64\n",
      " 121  INSULIN1   float64\n",
      " 122  BLDSUGAR   float64\n",
      " 123  FEETCHK3   float64\n",
      " 124  DOCTDIAB   float64\n",
      " 125  CHKHEMO3   float64\n",
      " 126  FEETCHK    float64\n",
      " 127  EYEEXAM1   float64\n",
      " 128  DIABEYE    float64\n",
      " 129  DIABEDU    float64\n",
      " 130  TOLDCFS    float64\n",
      " 131  HAVECFS    float64\n",
      " 132  WORKCFS    float64\n",
      " 133  TOLDHEPC   float64\n",
      " 134  TRETHEPC   float64\n",
      " 135  PRIRHEPC   float64\n",
      " 136  HAVEHEPC   float64\n",
      " 137  HAVEHEPB   float64\n",
      " 138  MEDSHEPB   float64\n",
      " 139  HLTHCVR1   float64\n",
      " 140  CIMEMLOS   float64\n",
      " 141  CDHOUSE    float64\n",
      " 142  CDASSIST   float64\n",
      " 143  CDHELP     float64\n",
      " 144  CDSOCIAL   float64\n",
      " 145  CDDISCUS   float64\n",
      " 146  CAREGIV1   float64\n",
      " 147  CRGVREL4   float64\n",
      " 148  CRGVLNG1   float64\n",
      " 149  CRGVHRS1   float64\n",
      " 150  CRGVPRB3   float64\n",
      " 151  CRGVALZD   float64\n",
      " 152  CRGVPER1   float64\n",
      " 153  CRGVHOU1   float64\n",
      " 154  CRGVEXPT   float64\n",
      " 155  ECIGARET   float64\n",
      " 156  ECIGNOW    float64\n",
      " 157  MARIJAN1   float64\n",
      " 158  USEMRJN2   float64\n",
      " 159  RSNMRJN1   float64\n",
      " 160  LCSFIRST   float64\n",
      " 161  LCSLAST    float64\n",
      " 162  LCSNUMCG   float64\n",
      " 163  LCSCTSCN   float64\n",
      " 164  CNCRDIFF   float64\n",
      " 165  CNCRAGE    float64\n",
      " 166  CNCRTYP1   float64\n",
      " 167  CSRVTRT3   float64\n",
      " 168  CSRVDOC1   float64\n",
      " 169  CSRVSUM    float64\n",
      " 170  CSRVRTRN   float64\n",
      " 171  CSRVINST   float64\n",
      " 172  CSRVINSR   float64\n",
      " 173  CSRVDEIN   float64\n",
      " 174  CSRVCLIN   float64\n",
      " 175  CSRVPAIN   float64\n",
      " 176  CSRVCTL2   float64\n",
      " 177  PCPSADE1   float64\n",
      " 178  PCDMDEC1   float64\n",
      " 179  HPVADVC4   float64\n",
      " 180  HPVADSHT   float64\n",
      " 181  TETANUS1   float64\n",
      " 182  IMFVPLA1   float64\n",
      " 183  BIRTHSEX   float64\n",
      " 184  SOMALE     float64\n",
      " 185  SOFEMALE   float64\n",
      " 186  TRNSGNDR   float64\n",
      " 187  ACEDEPRS   float64\n",
      " 188  ACEDRINK   float64\n",
      " 189  ACEDRUGS   float64\n",
      " 190  ACEPRISN   float64\n",
      " 191  ACEDIVRC   float64\n",
      " 192  ACEPUNCH   float64\n",
      " 193  ACEHURT1   float64\n",
      " 194  ACESWEAR   float64\n",
      " 195  ACETOUCH   float64\n",
      " 196  ACETTHEM   float64\n",
      " 197  ACEHVSEX   float64\n",
      " 198  RCSGENDR   float64\n",
      " 199  RCSRLTN2   float64\n",
      " 200  CASTHDX2   float64\n",
      " 201  CASTHNO2   float64\n",
      " 202  QSTVER     int64  \n",
      " 203  QSTLANG    int64  \n",
      " 204  X_METSTAT  float64\n",
      " 205  X_URBSTAT  float64\n",
      " 206  MSCODE     float64\n",
      " 207  X_STSTR    int64  \n",
      " 208  X_STRWT    float64\n",
      " 209  X_RAWRAKE  float64\n",
      " 210  X_WT2RAKE  float64\n",
      " 211  X_IMPRACE  int64  \n",
      " 212  X_CHISPNC  float64\n",
      " 213  X_CRACE1   float64\n",
      " 214  X_CPRACE   float64\n",
      " 215  X_CLLCPWT  float64\n",
      " 216  X_DUALUSE  int64  \n",
      " 217  X_DUALCOR  float64\n",
      " 218  X_LLCPWT2  float64\n",
      " 219  X_LLCPWT   float64\n",
      " 220  X_RFHLTH   int64  \n",
      " 221  X_PHYS14D  int64  \n",
      " 222  X_MENT14D  int64  \n",
      " 223  X_HCVU651  int64  \n",
      " 224  X_TOTINDA  int64  \n",
      " 225  X_MICHD    float64\n",
      " 226  X_LTASTH1  int64  \n",
      " 227  X_CASTHM1  int64  \n",
      " 228  X_ASTHMS1  int64  \n",
      " 229  X_DRDXAR2  float64\n",
      " 230  X_EXTETH3  int64  \n",
      " 231  X_ALTETH3  float64\n",
      " 232  X_DENVST3  int64  \n",
      " 233  X_PRACE1   float64\n",
      " 234  X_MRACE1   float64\n",
      " 235  X_HISPANC  int64  \n",
      " 236  X_RACE     float64\n",
      " 237  X_RACEG21  float64\n",
      " 238  X_RACEGR3  float64\n",
      " 239  X_RACEPRV  float64\n",
      " 240  X_SEX      int64  \n",
      " 241  X_AGEG5YR  int64  \n",
      " 242  X_AGE65YR  int64  \n",
      " 243  X_AGE80    int64  \n",
      " 244  X_AGE_G    int64  \n",
      " 245  HTIN4      float64\n",
      " 246  HTM4       float64\n",
      " 247  WTKG3      float64\n",
      " 248  X_BMI5     float64\n",
      " 249  X_BMI5CAT  float64\n",
      " 250  X_RFBMI5   int64  \n",
      " 251  X_CHLDCNT  int64  \n",
      " 252  X_EDUCAG   int64  \n",
      " 253  X_INCOMG   int64  \n",
      " 254  X_SMOKER3  int64  \n",
      " 255  X_RFSMOK3  int64  \n",
      " 256  DRNKANY5   int64  \n",
      " 257  DROCDY3_   int64  \n",
      " 258  X_RFBING5  int64  \n",
      " 259  X_DRNKWK1  int64  \n",
      " 260  X_RFDRHV7  int64  \n",
      " 261  X_FLSHOT7  float64\n",
      " 262  X_PNEUMO3  float64\n",
      " 263  X_RFSEAT2  int64  \n",
      " 264  X_RFSEAT3  int64  \n",
      " 265  X_DRNKDRV  int64  \n",
      " 266  X_RFMAM22  float64\n",
      " 267  X_MAM5023  float64\n",
      " 268  X_RFPAP35  float64\n",
      " 269  X_RFPSA23  float64\n",
      " 270  X_CLNSCPY  float64\n",
      " 271  X_SGMSCPY  float64\n",
      " 272  X_SGMS10Y  float64\n",
      " 273  X_RFBLDS4  float64\n",
      " 274  X_STOLDNA  float64\n",
      " 275  X_VIRCOLN  float64\n",
      " 276  X_SBONTIM  float64\n",
      " 277  X_CRCREC1  float64\n",
      " 278  X_AIDTST4  float64\n",
      "dtypes: float64(234), int64(45)\n",
      "memory usage: 855.6 MB\n"
     ]
    }
   ],
   "source": [
    "df.info(\"all\")"
   ]
  },
  {
   "cell_type": "code",
   "execution_count": 19,
   "metadata": {
    "colab": {
     "base_uri": "https://localhost:8080/"
    },
    "id": "JMxdqEEvAxtG",
    "outputId": "5235a037-a106-406b-b642-073a9ed21fa1"
   },
   "outputs": [
    {
     "data": {
      "text/plain": [
       "X_STATE           0\n",
       "FMONTH            0\n",
       "IDATE             0\n",
       "IMONTH            0\n",
       "IDAY              0\n",
       "IYEAR             0\n",
       "DISPCODE          0\n",
       "SEQNO             0\n",
       "X_PSU             0\n",
       "CTELENM1     277207\n",
       "PVTRESD1     277207\n",
       "COLGHOUS     401935\n",
       "STATERE1     277207\n",
       "CELPHONE     277207\n",
       "LADULT1      277207\n",
       "COLGSEX      401935\n",
       "NUMADULT     277216\n",
       "LANDSEX      350509\n",
       "NUMMEN       291536\n",
       "NUMWOMEN     291536\n",
       "RESPSLCT     354532\n",
       "SAFETIME     124751\n",
       "CTELNUM1     124751\n",
       "CELLFON5     124751\n",
       "CADULT1      124755\n",
       "CELLSEX      124771\n",
       "PVTRESD3     124752\n",
       "CCLGHOUS     400979\n",
       "CSTATE1      124758\n",
       "LANDLINE     124752\n",
       "HHADULT      124753\n",
       "SEXVAR            0\n",
       "GENHLTH           8\n",
       "PHYSHLTH          5\n",
       "MENTHLTH          5\n",
       "POORHLTH     200343\n",
       "HLTHPLN1          3\n",
       "PERSDOC2          3\n",
       "MEDCOST           3\n",
       "CHECKUP1          5\n",
       "EXERANY2          3\n",
       "SLEPTIM1          3\n",
       "CVDINFR4          6\n",
       "CVDCRHD4          3\n",
       "CVDSTRK3          3\n",
       "ASTHMA3           3\n",
       "ASTHNOW      347817\n",
       "CHCSCNCR          3\n",
       "CHCOCNCR          3\n",
       "CHCCOPD2          5\n",
       "HAVARTH4          5\n",
       "ADDEPEV3          6\n",
       "CHCKDNY2          6\n",
       "DIABETE4          6\n",
       "DIABAGE3     349864\n",
       "LASTDEN4          7\n",
       "RMVTETH4          7\n",
       "MARITAL          12\n",
       "EDUCA            12\n",
       "RENTHOM1         15\n",
       "NUMHHOL3     277212\n",
       "NUMPHON3     371708\n",
       "CPDEMO1B        116\n",
       "VETERAN3       1307\n",
       "EMPLOY1        2925\n",
       "CHILDREN       4767\n",
       "INCOME2        7358\n",
       "PREGNANT     326368\n",
       "WEIGHT2        9852\n",
       "HEIGHT3       10824\n",
       "DEAF          12415\n",
       "BLIND         13324\n",
       "DECIDE        14351\n",
       "DIFFWALK      15280\n",
       "DIFFDRES      15892\n",
       "DIFFALON      16769\n",
       "SMOKE100      17860\n",
       "SMOKDAY2     245324\n",
       "STOPSMK2     349535\n",
       "LASTSMK2     298233\n",
       "USENOW3       18493\n",
       "ALCDAY5       20927\n",
       "AVEDRNK3     211099\n",
       "DRNK3GE5     211626\n",
       "MAXDRNKS     212112\n",
       "FLUSHOT7      23525\n",
       "FLSHTMY3     205030\n",
       "SHINGLE2     165874\n",
       "PNEUVAC4      24437\n",
       "FALL12MN     137808\n",
       "FALLINJ4     333322\n",
       "SEATBELT      25511\n",
       "DRNKDRI2     208430\n",
       "HADMAM       198438\n",
       "HOWLONG      245446\n",
       "HADPAP2      198942\n",
       "LASTPAP2     215438\n",
       "HPVTEST      199388\n",
       "HPLSTTST     336493\n",
       "HADHYST2     201690\n",
       "PCPSAAD3     275393\n",
       "PCPSADI1     275622\n",
       "PCPSARE1     275882\n",
       "PSATEST1     276043\n",
       "PSATIME      343595\n",
       "PCPSARS1     343707\n",
       "COLNSCPY     143403\n",
       "COLNTEST     220603\n",
       "SIGMSCPY     143927\n",
       "SIGMTEST     370070\n",
       "BLDSTOL1     144393\n",
       "LSTBLDS4     318862\n",
       "STOOLDNA     144914\n",
       "SDNATEST     383572\n",
       "VIRCOLON     145453\n",
       "VCLNTEST     390737\n",
       "HIVTST7       34037\n",
       "HIVTSTD3     285136\n",
       "HIVRISK5      35932\n",
       "PDIABTST     183016\n",
       "PREDIAB1     182965\n",
       "INSULIN1     388849\n",
       "BLDSUGAR     388850\n",
       "FEETCHK3     388850\n",
       "DOCTDIAB     388850\n",
       "CHKHEMO3     388850\n",
       "FEETCHK      388925\n",
       "EYEEXAM1     388850\n",
       "DIABEYE      388850\n",
       "DIABEDU      388850\n",
       "TOLDCFS      401958\n",
       "HAVECFS      401958\n",
       "WORKCFS      401958\n",
       "TOLDHEPC     383151\n",
       "TRETHEPC     401687\n",
       "PRIRHEPC     401687\n",
       "HAVEHEPC     401687\n",
       "HAVEHEPB     383186\n",
       "MEDSHEPB     401807\n",
       "HLTHCVR1     362563\n",
       "CIMEMLOS     334120\n",
       "CDHOUSE      395834\n",
       "CDASSIST     395847\n",
       "CDHELP       400293\n",
       "CDSOCIAL     395855\n",
       "CDDISCUS     395865\n",
       "CAREGIV1     371480\n",
       "CRGVREL4     396104\n",
       "CRGVLNG1     396112\n",
       "CRGVHRS1     396130\n",
       "CRGVPRB3     396148\n",
       "CRGVALZD     396612\n",
       "CRGVPER1     396163\n",
       "CRGVHOU1     396172\n",
       "CRGVEXPT     372320\n",
       "ECIGARET     137397\n",
       "ECIGNOW      351208\n",
       "MARIJAN1     271339\n",
       "USEMRJN2     390513\n",
       "RSNMRJN1     390525\n",
       "LCSFIRST     387914\n",
       "LCSLAST      388332\n",
       "LCSNUMCG     388351\n",
       "LCSCTSCN     370711\n",
       "CNCRDIFF     378792\n",
       "CNCRAGE      379265\n",
       "CNCRTYP1     379282\n",
       "CSRVTRT3     377950\n",
       "CSRVDOC1     388388\n",
       "CSRVSUM      388401\n",
       "CSRVRTRN     388422\n",
       "CSRVINST     391979\n",
       "CSRVINSR     388442\n",
       "CSRVDEIN     388451\n",
       "CSRVCLIN     388459\n",
       "CSRVPAIN     379939\n",
       "CSRVCTL2     400105\n",
       "PCPSADE1     400117\n",
       "PCDMDEC1     401540\n",
       "HPVADVC4     386846\n",
       "HPVADSHT     399179\n",
       "TETANUS1     394003\n",
       "IMFVPLA1     394375\n",
       "BIRTHSEX     300719\n",
       "SOMALE       291919\n",
       "SOFEMALE     271880\n",
       "TRNSGNDR     161936\n",
       "ACEDEPRS     272572\n",
       "ACEDRINK     272753\n",
       "ACEDRUGS     272819\n",
       "ACEPRISN     272878\n",
       "ACEDIVRC     272915\n",
       "ACEPUNCH     272990\n",
       "ACEHURT1     273103\n",
       "ACESWEAR     273191\n",
       "ACETOUCH     273271\n",
       "ACETTHEM     273360\n",
       "ACEHVSEX     273459\n",
       "RCSGENDR     346998\n",
       "RCSRLTN2     347440\n",
       "CASTHDX2     352527\n",
       "CASTHNO2     396463\n",
       "QSTVER            0\n",
       "QSTLANG           0\n",
       "X_METSTAT      7127\n",
       "X_URBSTAT      7127\n",
       "MSCODE       279833\n",
       "X_STSTR           0\n",
       "X_STRWT           0\n",
       "X_RAWRAKE         0\n",
       "X_WT2RAKE         0\n",
       "X_IMPRACE         0\n",
       "X_CHISPNC    125339\n",
       "X_CRACE1     345583\n",
       "X_CPRACE     345583\n",
       "X_CLLCPWT    347004\n",
       "X_DUALUSE         0\n",
       "X_DUALCOR    224237\n",
       "X_LLCPWT2         0\n",
       "X_LLCPWT          0\n",
       "X_RFHLTH          0\n",
       "X_PHYS14D         0\n",
       "X_MENT14D         0\n",
       "X_HCVU651         0\n",
       "X_TOTINDA         0\n",
       "X_MICHD        3571\n",
       "X_LTASTH1         0\n",
       "X_CASTHM1         0\n",
       "X_ASTHMS1         0\n",
       "X_DRDXAR2      2303\n",
       "X_EXTETH3         0\n",
       "X_ALTETH3    256096\n",
       "X_DENVST3         0\n",
       "X_PRACE1          9\n",
       "X_MRACE1          9\n",
       "X_HISPANC         0\n",
       "X_RACE            1\n",
       "X_RACEG21         1\n",
       "X_RACEGR3         1\n",
       "X_RACEPRV         1\n",
       "X_SEX             0\n",
       "X_AGEG5YR         0\n",
       "X_AGE65YR         0\n",
       "X_AGE80           0\n",
       "X_AGE_G           0\n",
       "HTIN4         23808\n",
       "HTM4          21731\n",
       "WTKG3         34948\n",
       "X_BMI5        41357\n",
       "X_BMI5CAT     41357\n",
       "X_RFBMI5          0\n",
       "X_CHLDCNT         0\n",
       "X_EDUCAG          0\n",
       "X_INCOMG          0\n",
       "X_SMOKER3         0\n",
       "X_RFSMOK3         0\n",
       "DRNKANY5          0\n",
       "DROCDY3_          0\n",
       "X_RFBING5         0\n",
       "X_DRNKWK1         0\n",
       "X_RFDRHV7         0\n",
       "X_FLSHOT7    256096\n",
       "X_PNEUMO3    256096\n",
       "X_RFSEAT2         0\n",
       "X_RFSEAT3         0\n",
       "X_DRNKDRV         0\n",
       "X_RFMAM22    235983\n",
       "X_MAM5023    306666\n",
       "X_RFPAP35    304555\n",
       "X_RFPSA23    275354\n",
       "X_CLNSCPY    224036\n",
       "X_SGMSCPY    230472\n",
       "X_SGMS10Y    230472\n",
       "X_RFBLDS4    226105\n",
       "X_STOLDNA    225601\n",
       "X_VIRCOLN    227684\n",
       "X_SBONTIM    207741\n",
       "X_CRCREC1    226260\n",
       "X_AIDTST4     34037\n",
       "dtype: int64"
      ]
     },
     "execution_count": 19,
     "metadata": {},
     "output_type": "execute_result"
    }
   ],
   "source": [
    "df.isnull().sum()"
   ]
  },
  {
   "cell_type": "markdown",
   "metadata": {
    "id": "7wmT8CYR-TV-"
   },
   "source": [
    "#Removing data which is having more than 60% null values"
   ]
  },
  {
   "cell_type": "code",
   "execution_count": 20,
   "metadata": {
    "colab": {
     "base_uri": "https://localhost:8080/"
    },
    "id": "MTa4fDyk8UiL",
    "outputId": "5c2f2e4b-57c6-4a36-df3f-42f73c9187aa"
   },
   "outputs": [
    {
     "name": "stdout",
     "output_type": "stream",
     "text": [
      "155\n"
     ]
    }
   ],
   "source": [
    "list1=[]\n",
    "list=df.columns\n",
    "for i in list:\n",
    "  j=round(100*(df[i].isnull().sum()/len(df[i].index)),2)\n",
    "  if j < 60.00:\n",
    "    list1.append(i)\n",
    "\n",
    "print(len(list1))"
   ]
  },
  {
   "cell_type": "code",
   "execution_count": 21,
   "metadata": {
    "id": "Ff3865UN-AFi"
   },
   "outputs": [],
   "source": [
    "new_df=df[list1]"
   ]
  },
  {
   "cell_type": "code",
   "execution_count": 22,
   "metadata": {
    "colab": {
     "base_uri": "https://localhost:8080/",
     "height": 270
    },
    "id": "_zj9PSoY-G_p",
    "outputId": "373c119f-34ba-45b6-f1af-9de5c18c7618"
   },
   "outputs": [
    {
     "data": {
      "text/html": [
       "<div>\n",
       "<style scoped>\n",
       "    .dataframe tbody tr th:only-of-type {\n",
       "        vertical-align: middle;\n",
       "    }\n",
       "\n",
       "    .dataframe tbody tr th {\n",
       "        vertical-align: top;\n",
       "    }\n",
       "\n",
       "    .dataframe thead th {\n",
       "        text-align: right;\n",
       "    }\n",
       "</style>\n",
       "<table border=\"1\" class=\"dataframe\">\n",
       "  <thead>\n",
       "    <tr style=\"text-align: right;\">\n",
       "      <th></th>\n",
       "      <th>X_STATE</th>\n",
       "      <th>FMONTH</th>\n",
       "      <th>IDATE</th>\n",
       "      <th>IMONTH</th>\n",
       "      <th>IDAY</th>\n",
       "      <th>IYEAR</th>\n",
       "      <th>DISPCODE</th>\n",
       "      <th>SEQNO</th>\n",
       "      <th>X_PSU</th>\n",
       "      <th>SAFETIME</th>\n",
       "      <th>CTELNUM1</th>\n",
       "      <th>CELLFON5</th>\n",
       "      <th>CADULT1</th>\n",
       "      <th>CELLSEX</th>\n",
       "      <th>PVTRESD3</th>\n",
       "      <th>CSTATE1</th>\n",
       "      <th>LANDLINE</th>\n",
       "      <th>HHADULT</th>\n",
       "      <th>SEXVAR</th>\n",
       "      <th>GENHLTH</th>\n",
       "      <th>PHYSHLTH</th>\n",
       "      <th>MENTHLTH</th>\n",
       "      <th>POORHLTH</th>\n",
       "      <th>HLTHPLN1</th>\n",
       "      <th>PERSDOC2</th>\n",
       "      <th>MEDCOST</th>\n",
       "      <th>CHECKUP1</th>\n",
       "      <th>EXERANY2</th>\n",
       "      <th>SLEPTIM1</th>\n",
       "      <th>CVDINFR4</th>\n",
       "      <th>CVDCRHD4</th>\n",
       "      <th>CVDSTRK3</th>\n",
       "      <th>ASTHMA3</th>\n",
       "      <th>CHCSCNCR</th>\n",
       "      <th>CHCOCNCR</th>\n",
       "      <th>CHCCOPD2</th>\n",
       "      <th>HAVARTH4</th>\n",
       "      <th>ADDEPEV3</th>\n",
       "      <th>CHCKDNY2</th>\n",
       "      <th>DIABETE4</th>\n",
       "      <th>LASTDEN4</th>\n",
       "      <th>RMVTETH4</th>\n",
       "      <th>MARITAL</th>\n",
       "      <th>EDUCA</th>\n",
       "      <th>RENTHOM1</th>\n",
       "      <th>CPDEMO1B</th>\n",
       "      <th>VETERAN3</th>\n",
       "      <th>EMPLOY1</th>\n",
       "      <th>CHILDREN</th>\n",
       "      <th>INCOME2</th>\n",
       "      <th>WEIGHT2</th>\n",
       "      <th>HEIGHT3</th>\n",
       "      <th>DEAF</th>\n",
       "      <th>BLIND</th>\n",
       "      <th>DECIDE</th>\n",
       "      <th>DIFFWALK</th>\n",
       "      <th>DIFFDRES</th>\n",
       "      <th>DIFFALON</th>\n",
       "      <th>SMOKE100</th>\n",
       "      <th>USENOW3</th>\n",
       "      <th>ALCDAY5</th>\n",
       "      <th>AVEDRNK3</th>\n",
       "      <th>DRNK3GE5</th>\n",
       "      <th>MAXDRNKS</th>\n",
       "      <th>FLUSHOT7</th>\n",
       "      <th>FLSHTMY3</th>\n",
       "      <th>SHINGLE2</th>\n",
       "      <th>PNEUVAC4</th>\n",
       "      <th>FALL12MN</th>\n",
       "      <th>SEATBELT</th>\n",
       "      <th>DRNKDRI2</th>\n",
       "      <th>HADMAM</th>\n",
       "      <th>HADPAP2</th>\n",
       "      <th>LASTPAP2</th>\n",
       "      <th>HPVTEST</th>\n",
       "      <th>HADHYST2</th>\n",
       "      <th>COLNSCPY</th>\n",
       "      <th>COLNTEST</th>\n",
       "      <th>SIGMSCPY</th>\n",
       "      <th>BLDSTOL1</th>\n",
       "      <th>STOOLDNA</th>\n",
       "      <th>VIRCOLON</th>\n",
       "      <th>HIVTST7</th>\n",
       "      <th>HIVRISK5</th>\n",
       "      <th>PDIABTST</th>\n",
       "      <th>PREDIAB1</th>\n",
       "      <th>ECIGARET</th>\n",
       "      <th>TRNSGNDR</th>\n",
       "      <th>QSTVER</th>\n",
       "      <th>QSTLANG</th>\n",
       "      <th>X_METSTAT</th>\n",
       "      <th>X_URBSTAT</th>\n",
       "      <th>X_STSTR</th>\n",
       "      <th>X_STRWT</th>\n",
       "      <th>X_RAWRAKE</th>\n",
       "      <th>X_WT2RAKE</th>\n",
       "      <th>X_IMPRACE</th>\n",
       "      <th>X_CHISPNC</th>\n",
       "      <th>X_DUALUSE</th>\n",
       "      <th>X_DUALCOR</th>\n",
       "      <th>X_LLCPWT2</th>\n",
       "      <th>X_LLCPWT</th>\n",
       "      <th>X_RFHLTH</th>\n",
       "      <th>X_PHYS14D</th>\n",
       "      <th>X_MENT14D</th>\n",
       "      <th>X_HCVU651</th>\n",
       "      <th>X_TOTINDA</th>\n",
       "      <th>X_MICHD</th>\n",
       "      <th>X_LTASTH1</th>\n",
       "      <th>X_CASTHM1</th>\n",
       "      <th>X_ASTHMS1</th>\n",
       "      <th>X_DRDXAR2</th>\n",
       "      <th>X_EXTETH3</th>\n",
       "      <th>X_DENVST3</th>\n",
       "      <th>X_PRACE1</th>\n",
       "      <th>X_MRACE1</th>\n",
       "      <th>X_HISPANC</th>\n",
       "      <th>X_RACE</th>\n",
       "      <th>X_RACEG21</th>\n",
       "      <th>X_RACEGR3</th>\n",
       "      <th>X_RACEPRV</th>\n",
       "      <th>X_SEX</th>\n",
       "      <th>X_AGEG5YR</th>\n",
       "      <th>X_AGE65YR</th>\n",
       "      <th>X_AGE80</th>\n",
       "      <th>X_AGE_G</th>\n",
       "      <th>HTIN4</th>\n",
       "      <th>HTM4</th>\n",
       "      <th>WTKG3</th>\n",
       "      <th>X_BMI5</th>\n",
       "      <th>X_BMI5CAT</th>\n",
       "      <th>X_RFBMI5</th>\n",
       "      <th>X_CHLDCNT</th>\n",
       "      <th>X_EDUCAG</th>\n",
       "      <th>X_INCOMG</th>\n",
       "      <th>X_SMOKER3</th>\n",
       "      <th>X_RFSMOK3</th>\n",
       "      <th>DRNKANY5</th>\n",
       "      <th>DROCDY3_</th>\n",
       "      <th>X_RFBING5</th>\n",
       "      <th>X_DRNKWK1</th>\n",
       "      <th>X_RFDRHV7</th>\n",
       "      <th>X_RFSEAT2</th>\n",
       "      <th>X_RFSEAT3</th>\n",
       "      <th>X_DRNKDRV</th>\n",
       "      <th>X_RFMAM22</th>\n",
       "      <th>X_CLNSCPY</th>\n",
       "      <th>X_SGMSCPY</th>\n",
       "      <th>X_SGMS10Y</th>\n",
       "      <th>X_RFBLDS4</th>\n",
       "      <th>X_STOLDNA</th>\n",
       "      <th>X_VIRCOLN</th>\n",
       "      <th>X_SBONTIM</th>\n",
       "      <th>X_CRCREC1</th>\n",
       "      <th>X_AIDTST4</th>\n",
       "    </tr>\n",
       "  </thead>\n",
       "  <tbody>\n",
       "    <tr>\n",
       "      <th>0</th>\n",
       "      <td>1</td>\n",
       "      <td>1</td>\n",
       "      <td>1042020</td>\n",
       "      <td>1</td>\n",
       "      <td>4</td>\n",
       "      <td>2020</td>\n",
       "      <td>1100</td>\n",
       "      <td>2020000001</td>\n",
       "      <td>2020000001</td>\n",
       "      <td>NaN</td>\n",
       "      <td>NaN</td>\n",
       "      <td>NaN</td>\n",
       "      <td>NaN</td>\n",
       "      <td>NaN</td>\n",
       "      <td>NaN</td>\n",
       "      <td>NaN</td>\n",
       "      <td>NaN</td>\n",
       "      <td>NaN</td>\n",
       "      <td>2</td>\n",
       "      <td>2.0</td>\n",
       "      <td>3.0</td>\n",
       "      <td>30.0</td>\n",
       "      <td>3.0</td>\n",
       "      <td>2.0</td>\n",
       "      <td>3.0</td>\n",
       "      <td>1.0</td>\n",
       "      <td>4.0</td>\n",
       "      <td>1.0</td>\n",
       "      <td>5.0</td>\n",
       "      <td>2.0</td>\n",
       "      <td>2.0</td>\n",
       "      <td>2.0</td>\n",
       "      <td>1.0</td>\n",
       "      <td>1.0</td>\n",
       "      <td>1.0</td>\n",
       "      <td>1.0</td>\n",
       "      <td>1.0</td>\n",
       "      <td>1.0</td>\n",
       "      <td>2.0</td>\n",
       "      <td>1.0</td>\n",
       "      <td>1.0</td>\n",
       "      <td>2.0</td>\n",
       "      <td>2.0</td>\n",
       "      <td>6.0</td>\n",
       "      <td>1.0</td>\n",
       "      <td>1.0</td>\n",
       "      <td>2.0</td>\n",
       "      <td>4.0</td>\n",
       "      <td>88.0</td>\n",
       "      <td>1.0</td>\n",
       "      <td>106.0</td>\n",
       "      <td>507.0</td>\n",
       "      <td>2.0</td>\n",
       "      <td>2.0</td>\n",
       "      <td>1.0</td>\n",
       "      <td>2.0</td>\n",
       "      <td>2.0</td>\n",
       "      <td>2.0</td>\n",
       "      <td>1.0</td>\n",
       "      <td>3.0</td>\n",
       "      <td>888.0</td>\n",
       "      <td>NaN</td>\n",
       "      <td>NaN</td>\n",
       "      <td>NaN</td>\n",
       "      <td>2.0</td>\n",
       "      <td>NaN</td>\n",
       "      <td>2.0</td>\n",
       "      <td>2.0</td>\n",
       "      <td>88.0</td>\n",
       "      <td>1.0</td>\n",
       "      <td>NaN</td>\n",
       "      <td>1.0</td>\n",
       "      <td>1.0</td>\n",
       "      <td>4.0</td>\n",
       "      <td>2.0</td>\n",
       "      <td>1.0</td>\n",
       "      <td>1.0</td>\n",
       "      <td>4.0</td>\n",
       "      <td>2.0</td>\n",
       "      <td>2.0</td>\n",
       "      <td>2.0</td>\n",
       "      <td>2.0</td>\n",
       "      <td>1.0</td>\n",
       "      <td>2.0</td>\n",
       "      <td>NaN</td>\n",
       "      <td>NaN</td>\n",
       "      <td>1.0</td>\n",
       "      <td>NaN</td>\n",
       "      <td>10</td>\n",
       "      <td>1</td>\n",
       "      <td>1.0</td>\n",
       "      <td>1.0</td>\n",
       "      <td>11011</td>\n",
       "      <td>69.640207</td>\n",
       "      <td>1.0</td>\n",
       "      <td>69.640207</td>\n",
       "      <td>1</td>\n",
       "      <td>NaN</td>\n",
       "      <td>1</td>\n",
       "      <td>0.465411</td>\n",
       "      <td>460.002849</td>\n",
       "      <td>284.335672</td>\n",
       "      <td>1</td>\n",
       "      <td>2</td>\n",
       "      <td>3</td>\n",
       "      <td>2</td>\n",
       "      <td>1</td>\n",
       "      <td>2.0</td>\n",
       "      <td>2</td>\n",
       "      <td>2</td>\n",
       "      <td>1</td>\n",
       "      <td>1.0</td>\n",
       "      <td>2</td>\n",
       "      <td>1</td>\n",
       "      <td>1.0</td>\n",
       "      <td>1.0</td>\n",
       "      <td>2</td>\n",
       "      <td>1.0</td>\n",
       "      <td>1.0</td>\n",
       "      <td>1.0</td>\n",
       "      <td>1.0</td>\n",
       "      <td>2</td>\n",
       "      <td>8</td>\n",
       "      <td>1</td>\n",
       "      <td>56</td>\n",
       "      <td>5</td>\n",
       "      <td>67.0</td>\n",
       "      <td>170.0</td>\n",
       "      <td>4808.0</td>\n",
       "      <td>1660.0</td>\n",
       "      <td>1.0</td>\n",
       "      <td>1</td>\n",
       "      <td>1</td>\n",
       "      <td>4</td>\n",
       "      <td>1</td>\n",
       "      <td>1</td>\n",
       "      <td>2</td>\n",
       "      <td>2</td>\n",
       "      <td>0</td>\n",
       "      <td>1</td>\n",
       "      <td>0</td>\n",
       "      <td>1</td>\n",
       "      <td>1</td>\n",
       "      <td>1</td>\n",
       "      <td>9</td>\n",
       "      <td>2.0</td>\n",
       "      <td>1.0</td>\n",
       "      <td>3.0</td>\n",
       "      <td>3.0</td>\n",
       "      <td>3.0</td>\n",
       "      <td>3.0</td>\n",
       "      <td>3.0</td>\n",
       "      <td>3.0</td>\n",
       "      <td>1.0</td>\n",
       "      <td>1.0</td>\n",
       "    </tr>\n",
       "    <tr>\n",
       "      <th>1</th>\n",
       "      <td>1</td>\n",
       "      <td>1</td>\n",
       "      <td>2072020</td>\n",
       "      <td>2</td>\n",
       "      <td>7</td>\n",
       "      <td>2020</td>\n",
       "      <td>1200</td>\n",
       "      <td>2020000002</td>\n",
       "      <td>2020000002</td>\n",
       "      <td>NaN</td>\n",
       "      <td>NaN</td>\n",
       "      <td>NaN</td>\n",
       "      <td>NaN</td>\n",
       "      <td>NaN</td>\n",
       "      <td>NaN</td>\n",
       "      <td>NaN</td>\n",
       "      <td>NaN</td>\n",
       "      <td>NaN</td>\n",
       "      <td>2</td>\n",
       "      <td>3.0</td>\n",
       "      <td>88.0</td>\n",
       "      <td>88.0</td>\n",
       "      <td>NaN</td>\n",
       "      <td>1.0</td>\n",
       "      <td>1.0</td>\n",
       "      <td>1.0</td>\n",
       "      <td>1.0</td>\n",
       "      <td>1.0</td>\n",
       "      <td>7.0</td>\n",
       "      <td>2.0</td>\n",
       "      <td>2.0</td>\n",
       "      <td>2.0</td>\n",
       "      <td>1.0</td>\n",
       "      <td>2.0</td>\n",
       "      <td>2.0</td>\n",
       "      <td>2.0</td>\n",
       "      <td>1.0</td>\n",
       "      <td>1.0</td>\n",
       "      <td>2.0</td>\n",
       "      <td>3.0</td>\n",
       "      <td>1.0</td>\n",
       "      <td>1.0</td>\n",
       "      <td>3.0</td>\n",
       "      <td>6.0</td>\n",
       "      <td>1.0</td>\n",
       "      <td>1.0</td>\n",
       "      <td>2.0</td>\n",
       "      <td>7.0</td>\n",
       "      <td>88.0</td>\n",
       "      <td>99.0</td>\n",
       "      <td>170.0</td>\n",
       "      <td>504.0</td>\n",
       "      <td>2.0</td>\n",
       "      <td>2.0</td>\n",
       "      <td>2.0</td>\n",
       "      <td>2.0</td>\n",
       "      <td>2.0</td>\n",
       "      <td>2.0</td>\n",
       "      <td>NaN</td>\n",
       "      <td>NaN</td>\n",
       "      <td>NaN</td>\n",
       "      <td>NaN</td>\n",
       "      <td>NaN</td>\n",
       "      <td>NaN</td>\n",
       "      <td>NaN</td>\n",
       "      <td>NaN</td>\n",
       "      <td>NaN</td>\n",
       "      <td>NaN</td>\n",
       "      <td>NaN</td>\n",
       "      <td>NaN</td>\n",
       "      <td>NaN</td>\n",
       "      <td>NaN</td>\n",
       "      <td>NaN</td>\n",
       "      <td>NaN</td>\n",
       "      <td>NaN</td>\n",
       "      <td>NaN</td>\n",
       "      <td>NaN</td>\n",
       "      <td>NaN</td>\n",
       "      <td>NaN</td>\n",
       "      <td>NaN</td>\n",
       "      <td>NaN</td>\n",
       "      <td>NaN</td>\n",
       "      <td>NaN</td>\n",
       "      <td>NaN</td>\n",
       "      <td>1.0</td>\n",
       "      <td>1.0</td>\n",
       "      <td>NaN</td>\n",
       "      <td>NaN</td>\n",
       "      <td>10</td>\n",
       "      <td>1</td>\n",
       "      <td>1.0</td>\n",
       "      <td>1.0</td>\n",
       "      <td>11011</td>\n",
       "      <td>69.640207</td>\n",
       "      <td>1.0</td>\n",
       "      <td>69.640207</td>\n",
       "      <td>2</td>\n",
       "      <td>NaN</td>\n",
       "      <td>1</td>\n",
       "      <td>0.465411</td>\n",
       "      <td>460.002849</td>\n",
       "      <td>171.283329</td>\n",
       "      <td>1</td>\n",
       "      <td>1</td>\n",
       "      <td>1</td>\n",
       "      <td>9</td>\n",
       "      <td>1</td>\n",
       "      <td>2.0</td>\n",
       "      <td>2</td>\n",
       "      <td>1</td>\n",
       "      <td>2</td>\n",
       "      <td>1.0</td>\n",
       "      <td>2</td>\n",
       "      <td>1</td>\n",
       "      <td>2.0</td>\n",
       "      <td>2.0</td>\n",
       "      <td>2</td>\n",
       "      <td>2.0</td>\n",
       "      <td>2.0</td>\n",
       "      <td>2.0</td>\n",
       "      <td>2.0</td>\n",
       "      <td>2</td>\n",
       "      <td>10</td>\n",
       "      <td>2</td>\n",
       "      <td>65</td>\n",
       "      <td>6</td>\n",
       "      <td>64.0</td>\n",
       "      <td>163.0</td>\n",
       "      <td>7711.0</td>\n",
       "      <td>2918.0</td>\n",
       "      <td>3.0</td>\n",
       "      <td>2</td>\n",
       "      <td>1</td>\n",
       "      <td>4</td>\n",
       "      <td>9</td>\n",
       "      <td>9</td>\n",
       "      <td>9</td>\n",
       "      <td>9</td>\n",
       "      <td>900</td>\n",
       "      <td>9</td>\n",
       "      <td>99900</td>\n",
       "      <td>9</td>\n",
       "      <td>9</td>\n",
       "      <td>9</td>\n",
       "      <td>9</td>\n",
       "      <td>9.0</td>\n",
       "      <td>NaN</td>\n",
       "      <td>NaN</td>\n",
       "      <td>NaN</td>\n",
       "      <td>NaN</td>\n",
       "      <td>NaN</td>\n",
       "      <td>NaN</td>\n",
       "      <td>2.0</td>\n",
       "      <td>NaN</td>\n",
       "      <td>NaN</td>\n",
       "    </tr>\n",
       "    <tr>\n",
       "      <th>2</th>\n",
       "      <td>1</td>\n",
       "      <td>1</td>\n",
       "      <td>1232020</td>\n",
       "      <td>1</td>\n",
       "      <td>23</td>\n",
       "      <td>2020</td>\n",
       "      <td>1100</td>\n",
       "      <td>2020000003</td>\n",
       "      <td>2020000003</td>\n",
       "      <td>NaN</td>\n",
       "      <td>NaN</td>\n",
       "      <td>NaN</td>\n",
       "      <td>NaN</td>\n",
       "      <td>NaN</td>\n",
       "      <td>NaN</td>\n",
       "      <td>NaN</td>\n",
       "      <td>NaN</td>\n",
       "      <td>NaN</td>\n",
       "      <td>2</td>\n",
       "      <td>3.0</td>\n",
       "      <td>88.0</td>\n",
       "      <td>88.0</td>\n",
       "      <td>NaN</td>\n",
       "      <td>1.0</td>\n",
       "      <td>1.0</td>\n",
       "      <td>2.0</td>\n",
       "      <td>1.0</td>\n",
       "      <td>1.0</td>\n",
       "      <td>7.0</td>\n",
       "      <td>2.0</td>\n",
       "      <td>2.0</td>\n",
       "      <td>2.0</td>\n",
       "      <td>2.0</td>\n",
       "      <td>2.0</td>\n",
       "      <td>1.0</td>\n",
       "      <td>2.0</td>\n",
       "      <td>1.0</td>\n",
       "      <td>2.0</td>\n",
       "      <td>2.0</td>\n",
       "      <td>3.0</td>\n",
       "      <td>1.0</td>\n",
       "      <td>7.0</td>\n",
       "      <td>1.0</td>\n",
       "      <td>5.0</td>\n",
       "      <td>1.0</td>\n",
       "      <td>1.0</td>\n",
       "      <td>2.0</td>\n",
       "      <td>7.0</td>\n",
       "      <td>88.0</td>\n",
       "      <td>7.0</td>\n",
       "      <td>7777.0</td>\n",
       "      <td>508.0</td>\n",
       "      <td>2.0</td>\n",
       "      <td>2.0</td>\n",
       "      <td>2.0</td>\n",
       "      <td>2.0</td>\n",
       "      <td>2.0</td>\n",
       "      <td>2.0</td>\n",
       "      <td>2.0</td>\n",
       "      <td>3.0</td>\n",
       "      <td>888.0</td>\n",
       "      <td>NaN</td>\n",
       "      <td>NaN</td>\n",
       "      <td>NaN</td>\n",
       "      <td>1.0</td>\n",
       "      <td>102019.0</td>\n",
       "      <td>2.0</td>\n",
       "      <td>2.0</td>\n",
       "      <td>88.0</td>\n",
       "      <td>1.0</td>\n",
       "      <td>NaN</td>\n",
       "      <td>1.0</td>\n",
       "      <td>1.0</td>\n",
       "      <td>1.0</td>\n",
       "      <td>2.0</td>\n",
       "      <td>2.0</td>\n",
       "      <td>1.0</td>\n",
       "      <td>4.0</td>\n",
       "      <td>2.0</td>\n",
       "      <td>2.0</td>\n",
       "      <td>2.0</td>\n",
       "      <td>2.0</td>\n",
       "      <td>2.0</td>\n",
       "      <td>2.0</td>\n",
       "      <td>2.0</td>\n",
       "      <td>3.0</td>\n",
       "      <td>2.0</td>\n",
       "      <td>NaN</td>\n",
       "      <td>10</td>\n",
       "      <td>1</td>\n",
       "      <td>1.0</td>\n",
       "      <td>1.0</td>\n",
       "      <td>11012</td>\n",
       "      <td>279.748901</td>\n",
       "      <td>1.0</td>\n",
       "      <td>279.748901</td>\n",
       "      <td>2</td>\n",
       "      <td>NaN</td>\n",
       "      <td>1</td>\n",
       "      <td>0.465411</td>\n",
       "      <td>1847.859106</td>\n",
       "      <td>1334.368863</td>\n",
       "      <td>1</td>\n",
       "      <td>1</td>\n",
       "      <td>1</td>\n",
       "      <td>9</td>\n",
       "      <td>1</td>\n",
       "      <td>2.0</td>\n",
       "      <td>1</td>\n",
       "      <td>1</td>\n",
       "      <td>3</td>\n",
       "      <td>1.0</td>\n",
       "      <td>9</td>\n",
       "      <td>1</td>\n",
       "      <td>2.0</td>\n",
       "      <td>2.0</td>\n",
       "      <td>2</td>\n",
       "      <td>2.0</td>\n",
       "      <td>2.0</td>\n",
       "      <td>2.0</td>\n",
       "      <td>2.0</td>\n",
       "      <td>2</td>\n",
       "      <td>10</td>\n",
       "      <td>2</td>\n",
       "      <td>65</td>\n",
       "      <td>6</td>\n",
       "      <td>68.0</td>\n",
       "      <td>173.0</td>\n",
       "      <td>NaN</td>\n",
       "      <td>NaN</td>\n",
       "      <td>NaN</td>\n",
       "      <td>9</td>\n",
       "      <td>1</td>\n",
       "      <td>3</td>\n",
       "      <td>5</td>\n",
       "      <td>4</td>\n",
       "      <td>1</td>\n",
       "      <td>2</td>\n",
       "      <td>0</td>\n",
       "      <td>1</td>\n",
       "      <td>0</td>\n",
       "      <td>1</td>\n",
       "      <td>1</td>\n",
       "      <td>1</td>\n",
       "      <td>9</td>\n",
       "      <td>1.0</td>\n",
       "      <td>1.0</td>\n",
       "      <td>3.0</td>\n",
       "      <td>3.0</td>\n",
       "      <td>3.0</td>\n",
       "      <td>3.0</td>\n",
       "      <td>3.0</td>\n",
       "      <td>3.0</td>\n",
       "      <td>1.0</td>\n",
       "      <td>2.0</td>\n",
       "    </tr>\n",
       "    <tr>\n",
       "      <th>3</th>\n",
       "      <td>1</td>\n",
       "      <td>1</td>\n",
       "      <td>1092020</td>\n",
       "      <td>1</td>\n",
       "      <td>9</td>\n",
       "      <td>2020</td>\n",
       "      <td>1100</td>\n",
       "      <td>2020000004</td>\n",
       "      <td>2020000004</td>\n",
       "      <td>NaN</td>\n",
       "      <td>NaN</td>\n",
       "      <td>NaN</td>\n",
       "      <td>NaN</td>\n",
       "      <td>NaN</td>\n",
       "      <td>NaN</td>\n",
       "      <td>NaN</td>\n",
       "      <td>NaN</td>\n",
       "      <td>NaN</td>\n",
       "      <td>2</td>\n",
       "      <td>1.0</td>\n",
       "      <td>88.0</td>\n",
       "      <td>88.0</td>\n",
       "      <td>NaN</td>\n",
       "      <td>1.0</td>\n",
       "      <td>3.0</td>\n",
       "      <td>2.0</td>\n",
       "      <td>2.0</td>\n",
       "      <td>2.0</td>\n",
       "      <td>6.0</td>\n",
       "      <td>2.0</td>\n",
       "      <td>2.0</td>\n",
       "      <td>2.0</td>\n",
       "      <td>2.0</td>\n",
       "      <td>2.0</td>\n",
       "      <td>2.0</td>\n",
       "      <td>2.0</td>\n",
       "      <td>2.0</td>\n",
       "      <td>2.0</td>\n",
       "      <td>2.0</td>\n",
       "      <td>3.0</td>\n",
       "      <td>7.0</td>\n",
       "      <td>1.0</td>\n",
       "      <td>3.0</td>\n",
       "      <td>4.0</td>\n",
       "      <td>1.0</td>\n",
       "      <td>9.0</td>\n",
       "      <td>2.0</td>\n",
       "      <td>5.0</td>\n",
       "      <td>88.0</td>\n",
       "      <td>99.0</td>\n",
       "      <td>9999.0</td>\n",
       "      <td>9999.0</td>\n",
       "      <td>2.0</td>\n",
       "      <td>2.0</td>\n",
       "      <td>2.0</td>\n",
       "      <td>2.0</td>\n",
       "      <td>2.0</td>\n",
       "      <td>2.0</td>\n",
       "      <td>2.0</td>\n",
       "      <td>3.0</td>\n",
       "      <td>888.0</td>\n",
       "      <td>NaN</td>\n",
       "      <td>NaN</td>\n",
       "      <td>NaN</td>\n",
       "      <td>2.0</td>\n",
       "      <td>NaN</td>\n",
       "      <td>2.0</td>\n",
       "      <td>2.0</td>\n",
       "      <td>88.0</td>\n",
       "      <td>1.0</td>\n",
       "      <td>NaN</td>\n",
       "      <td>2.0</td>\n",
       "      <td>1.0</td>\n",
       "      <td>7.0</td>\n",
       "      <td>2.0</td>\n",
       "      <td>2.0</td>\n",
       "      <td>2.0</td>\n",
       "      <td>NaN</td>\n",
       "      <td>2.0</td>\n",
       "      <td>2.0</td>\n",
       "      <td>2.0</td>\n",
       "      <td>2.0</td>\n",
       "      <td>2.0</td>\n",
       "      <td>2.0</td>\n",
       "      <td>2.0</td>\n",
       "      <td>3.0</td>\n",
       "      <td>2.0</td>\n",
       "      <td>NaN</td>\n",
       "      <td>10</td>\n",
       "      <td>1</td>\n",
       "      <td>1.0</td>\n",
       "      <td>1.0</td>\n",
       "      <td>11011</td>\n",
       "      <td>69.640207</td>\n",
       "      <td>1.0</td>\n",
       "      <td>69.640207</td>\n",
       "      <td>1</td>\n",
       "      <td>NaN</td>\n",
       "      <td>9</td>\n",
       "      <td>NaN</td>\n",
       "      <td>1472.417322</td>\n",
       "      <td>1297.486618</td>\n",
       "      <td>1</td>\n",
       "      <td>1</td>\n",
       "      <td>1</td>\n",
       "      <td>9</td>\n",
       "      <td>2</td>\n",
       "      <td>2.0</td>\n",
       "      <td>1</td>\n",
       "      <td>1</td>\n",
       "      <td>3</td>\n",
       "      <td>2.0</td>\n",
       "      <td>2</td>\n",
       "      <td>9</td>\n",
       "      <td>1.0</td>\n",
       "      <td>1.0</td>\n",
       "      <td>2</td>\n",
       "      <td>1.0</td>\n",
       "      <td>1.0</td>\n",
       "      <td>1.0</td>\n",
       "      <td>1.0</td>\n",
       "      <td>2</td>\n",
       "      <td>13</td>\n",
       "      <td>2</td>\n",
       "      <td>80</td>\n",
       "      <td>6</td>\n",
       "      <td>NaN</td>\n",
       "      <td>NaN</td>\n",
       "      <td>NaN</td>\n",
       "      <td>NaN</td>\n",
       "      <td>NaN</td>\n",
       "      <td>9</td>\n",
       "      <td>1</td>\n",
       "      <td>2</td>\n",
       "      <td>9</td>\n",
       "      <td>4</td>\n",
       "      <td>1</td>\n",
       "      <td>2</td>\n",
       "      <td>0</td>\n",
       "      <td>1</td>\n",
       "      <td>0</td>\n",
       "      <td>1</td>\n",
       "      <td>1</td>\n",
       "      <td>1</td>\n",
       "      <td>9</td>\n",
       "      <td>2.0</td>\n",
       "      <td>NaN</td>\n",
       "      <td>NaN</td>\n",
       "      <td>NaN</td>\n",
       "      <td>NaN</td>\n",
       "      <td>NaN</td>\n",
       "      <td>NaN</td>\n",
       "      <td>NaN</td>\n",
       "      <td>NaN</td>\n",
       "      <td>2.0</td>\n",
       "    </tr>\n",
       "    <tr>\n",
       "      <th>4</th>\n",
       "      <td>1</td>\n",
       "      <td>1</td>\n",
       "      <td>1042020</td>\n",
       "      <td>1</td>\n",
       "      <td>4</td>\n",
       "      <td>2020</td>\n",
       "      <td>1100</td>\n",
       "      <td>2020000005</td>\n",
       "      <td>2020000005</td>\n",
       "      <td>NaN</td>\n",
       "      <td>NaN</td>\n",
       "      <td>NaN</td>\n",
       "      <td>NaN</td>\n",
       "      <td>NaN</td>\n",
       "      <td>NaN</td>\n",
       "      <td>NaN</td>\n",
       "      <td>NaN</td>\n",
       "      <td>NaN</td>\n",
       "      <td>2</td>\n",
       "      <td>2.0</td>\n",
       "      <td>88.0</td>\n",
       "      <td>88.0</td>\n",
       "      <td>NaN</td>\n",
       "      <td>1.0</td>\n",
       "      <td>1.0</td>\n",
       "      <td>2.0</td>\n",
       "      <td>1.0</td>\n",
       "      <td>1.0</td>\n",
       "      <td>7.0</td>\n",
       "      <td>2.0</td>\n",
       "      <td>2.0</td>\n",
       "      <td>1.0</td>\n",
       "      <td>2.0</td>\n",
       "      <td>2.0</td>\n",
       "      <td>2.0</td>\n",
       "      <td>2.0</td>\n",
       "      <td>2.0</td>\n",
       "      <td>2.0</td>\n",
       "      <td>2.0</td>\n",
       "      <td>3.0</td>\n",
       "      <td>7.0</td>\n",
       "      <td>8.0</td>\n",
       "      <td>3.0</td>\n",
       "      <td>6.0</td>\n",
       "      <td>2.0</td>\n",
       "      <td>8.0</td>\n",
       "      <td>2.0</td>\n",
       "      <td>7.0</td>\n",
       "      <td>88.0</td>\n",
       "      <td>77.0</td>\n",
       "      <td>126.0</td>\n",
       "      <td>506.0</td>\n",
       "      <td>2.0</td>\n",
       "      <td>2.0</td>\n",
       "      <td>2.0</td>\n",
       "      <td>2.0</td>\n",
       "      <td>2.0</td>\n",
       "      <td>2.0</td>\n",
       "      <td>2.0</td>\n",
       "      <td>3.0</td>\n",
       "      <td>888.0</td>\n",
       "      <td>NaN</td>\n",
       "      <td>NaN</td>\n",
       "      <td>NaN</td>\n",
       "      <td>1.0</td>\n",
       "      <td>102019.0</td>\n",
       "      <td>1.0</td>\n",
       "      <td>1.0</td>\n",
       "      <td>88.0</td>\n",
       "      <td>1.0</td>\n",
       "      <td>NaN</td>\n",
       "      <td>1.0</td>\n",
       "      <td>2.0</td>\n",
       "      <td>NaN</td>\n",
       "      <td>7.0</td>\n",
       "      <td>2.0</td>\n",
       "      <td>1.0</td>\n",
       "      <td>7.0</td>\n",
       "      <td>2.0</td>\n",
       "      <td>7.0</td>\n",
       "      <td>7.0</td>\n",
       "      <td>2.0</td>\n",
       "      <td>7.0</td>\n",
       "      <td>2.0</td>\n",
       "      <td>2.0</td>\n",
       "      <td>3.0</td>\n",
       "      <td>2.0</td>\n",
       "      <td>NaN</td>\n",
       "      <td>10</td>\n",
       "      <td>1</td>\n",
       "      <td>1.0</td>\n",
       "      <td>1.0</td>\n",
       "      <td>11011</td>\n",
       "      <td>69.640207</td>\n",
       "      <td>1.0</td>\n",
       "      <td>69.640207</td>\n",
       "      <td>1</td>\n",
       "      <td>NaN</td>\n",
       "      <td>9</td>\n",
       "      <td>NaN</td>\n",
       "      <td>1472.417322</td>\n",
       "      <td>454.815127</td>\n",
       "      <td>1</td>\n",
       "      <td>1</td>\n",
       "      <td>1</td>\n",
       "      <td>9</td>\n",
       "      <td>1</td>\n",
       "      <td>2.0</td>\n",
       "      <td>1</td>\n",
       "      <td>1</td>\n",
       "      <td>3</td>\n",
       "      <td>2.0</td>\n",
       "      <td>1</td>\n",
       "      <td>9</td>\n",
       "      <td>1.0</td>\n",
       "      <td>1.0</td>\n",
       "      <td>2</td>\n",
       "      <td>1.0</td>\n",
       "      <td>1.0</td>\n",
       "      <td>1.0</td>\n",
       "      <td>1.0</td>\n",
       "      <td>2</td>\n",
       "      <td>13</td>\n",
       "      <td>2</td>\n",
       "      <td>80</td>\n",
       "      <td>6</td>\n",
       "      <td>66.0</td>\n",
       "      <td>168.0</td>\n",
       "      <td>5715.0</td>\n",
       "      <td>2034.0</td>\n",
       "      <td>2.0</td>\n",
       "      <td>1</td>\n",
       "      <td>1</td>\n",
       "      <td>4</td>\n",
       "      <td>9</td>\n",
       "      <td>4</td>\n",
       "      <td>1</td>\n",
       "      <td>2</td>\n",
       "      <td>0</td>\n",
       "      <td>1</td>\n",
       "      <td>0</td>\n",
       "      <td>1</td>\n",
       "      <td>1</td>\n",
       "      <td>1</td>\n",
       "      <td>9</td>\n",
       "      <td>1.0</td>\n",
       "      <td>NaN</td>\n",
       "      <td>NaN</td>\n",
       "      <td>NaN</td>\n",
       "      <td>NaN</td>\n",
       "      <td>NaN</td>\n",
       "      <td>NaN</td>\n",
       "      <td>NaN</td>\n",
       "      <td>NaN</td>\n",
       "      <td>9.0</td>\n",
       "    </tr>\n",
       "  </tbody>\n",
       "</table>\n",
       "</div>"
      ],
      "text/plain": [
       "   X_STATE  FMONTH    IDATE  IMONTH  IDAY  IYEAR  DISPCODE       SEQNO  \\\n",
       "0        1       1  1042020       1     4   2020      1100  2020000001   \n",
       "1        1       1  2072020       2     7   2020      1200  2020000002   \n",
       "2        1       1  1232020       1    23   2020      1100  2020000003   \n",
       "3        1       1  1092020       1     9   2020      1100  2020000004   \n",
       "4        1       1  1042020       1     4   2020      1100  2020000005   \n",
       "\n",
       "        X_PSU  SAFETIME  CTELNUM1  CELLFON5  CADULT1  CELLSEX  PVTRESD3  \\\n",
       "0  2020000001       NaN       NaN       NaN      NaN      NaN       NaN   \n",
       "1  2020000002       NaN       NaN       NaN      NaN      NaN       NaN   \n",
       "2  2020000003       NaN       NaN       NaN      NaN      NaN       NaN   \n",
       "3  2020000004       NaN       NaN       NaN      NaN      NaN       NaN   \n",
       "4  2020000005       NaN       NaN       NaN      NaN      NaN       NaN   \n",
       "\n",
       "   CSTATE1  LANDLINE  HHADULT  SEXVAR  GENHLTH  PHYSHLTH  MENTHLTH  POORHLTH  \\\n",
       "0      NaN       NaN      NaN       2      2.0       3.0      30.0       3.0   \n",
       "1      NaN       NaN      NaN       2      3.0      88.0      88.0       NaN   \n",
       "2      NaN       NaN      NaN       2      3.0      88.0      88.0       NaN   \n",
       "3      NaN       NaN      NaN       2      1.0      88.0      88.0       NaN   \n",
       "4      NaN       NaN      NaN       2      2.0      88.0      88.0       NaN   \n",
       "\n",
       "   HLTHPLN1  PERSDOC2  MEDCOST  CHECKUP1  EXERANY2  SLEPTIM1  CVDINFR4  \\\n",
       "0       2.0       3.0      1.0       4.0       1.0       5.0       2.0   \n",
       "1       1.0       1.0      1.0       1.0       1.0       7.0       2.0   \n",
       "2       1.0       1.0      2.0       1.0       1.0       7.0       2.0   \n",
       "3       1.0       3.0      2.0       2.0       2.0       6.0       2.0   \n",
       "4       1.0       1.0      2.0       1.0       1.0       7.0       2.0   \n",
       "\n",
       "   CVDCRHD4  CVDSTRK3  ASTHMA3  CHCSCNCR  CHCOCNCR  CHCCOPD2  HAVARTH4  \\\n",
       "0       2.0       2.0      1.0       1.0       1.0       1.0       1.0   \n",
       "1       2.0       2.0      1.0       2.0       2.0       2.0       1.0   \n",
       "2       2.0       2.0      2.0       2.0       1.0       2.0       1.0   \n",
       "3       2.0       2.0      2.0       2.0       2.0       2.0       2.0   \n",
       "4       2.0       1.0      2.0       2.0       2.0       2.0       2.0   \n",
       "\n",
       "   ADDEPEV3  CHCKDNY2  DIABETE4  LASTDEN4  RMVTETH4  MARITAL  EDUCA  RENTHOM1  \\\n",
       "0       1.0       2.0       1.0       1.0       2.0      2.0    6.0       1.0   \n",
       "1       1.0       2.0       3.0       1.0       1.0      3.0    6.0       1.0   \n",
       "2       2.0       2.0       3.0       1.0       7.0      1.0    5.0       1.0   \n",
       "3       2.0       2.0       3.0       7.0       1.0      3.0    4.0       1.0   \n",
       "4       2.0       2.0       3.0       7.0       8.0      3.0    6.0       2.0   \n",
       "\n",
       "   CPDEMO1B  VETERAN3  EMPLOY1  CHILDREN  INCOME2  WEIGHT2  HEIGHT3  DEAF  \\\n",
       "0       1.0       2.0      4.0      88.0      1.0    106.0    507.0   2.0   \n",
       "1       1.0       2.0      7.0      88.0     99.0    170.0    504.0   2.0   \n",
       "2       1.0       2.0      7.0      88.0      7.0   7777.0    508.0   2.0   \n",
       "3       9.0       2.0      5.0      88.0     99.0   9999.0   9999.0   2.0   \n",
       "4       8.0       2.0      7.0      88.0     77.0    126.0    506.0   2.0   \n",
       "\n",
       "   BLIND  DECIDE  DIFFWALK  DIFFDRES  DIFFALON  SMOKE100  USENOW3  ALCDAY5  \\\n",
       "0    2.0     1.0       2.0       2.0       2.0       1.0      3.0    888.0   \n",
       "1    2.0     2.0       2.0       2.0       2.0       NaN      NaN      NaN   \n",
       "2    2.0     2.0       2.0       2.0       2.0       2.0      3.0    888.0   \n",
       "3    2.0     2.0       2.0       2.0       2.0       2.0      3.0    888.0   \n",
       "4    2.0     2.0       2.0       2.0       2.0       2.0      3.0    888.0   \n",
       "\n",
       "   AVEDRNK3  DRNK3GE5  MAXDRNKS  FLUSHOT7  FLSHTMY3  SHINGLE2  PNEUVAC4  \\\n",
       "0       NaN       NaN       NaN       2.0       NaN       2.0       2.0   \n",
       "1       NaN       NaN       NaN       NaN       NaN       NaN       NaN   \n",
       "2       NaN       NaN       NaN       1.0  102019.0       2.0       2.0   \n",
       "3       NaN       NaN       NaN       2.0       NaN       2.0       2.0   \n",
       "4       NaN       NaN       NaN       1.0  102019.0       1.0       1.0   \n",
       "\n",
       "   FALL12MN  SEATBELT  DRNKDRI2  HADMAM  HADPAP2  LASTPAP2  HPVTEST  HADHYST2  \\\n",
       "0      88.0       1.0       NaN     1.0      1.0       4.0      2.0       1.0   \n",
       "1       NaN       NaN       NaN     NaN      NaN       NaN      NaN       NaN   \n",
       "2      88.0       1.0       NaN     1.0      1.0       1.0      2.0       2.0   \n",
       "3      88.0       1.0       NaN     2.0      1.0       7.0      2.0       2.0   \n",
       "4      88.0       1.0       NaN     1.0      2.0       NaN      7.0       2.0   \n",
       "\n",
       "   COLNSCPY  COLNTEST  SIGMSCPY  BLDSTOL1  STOOLDNA  VIRCOLON  HIVTST7  \\\n",
       "0       1.0       4.0       2.0       2.0       2.0       2.0      1.0   \n",
       "1       NaN       NaN       NaN       NaN       NaN       NaN      NaN   \n",
       "2       1.0       4.0       2.0       2.0       2.0       2.0      2.0   \n",
       "3       2.0       NaN       2.0       2.0       2.0       2.0      2.0   \n",
       "4       1.0       7.0       2.0       7.0       7.0       2.0      7.0   \n",
       "\n",
       "   HIVRISK5  PDIABTST  PREDIAB1  ECIGARET  TRNSGNDR  QSTVER  QSTLANG  \\\n",
       "0       2.0       NaN       NaN       1.0       NaN      10        1   \n",
       "1       NaN       1.0       1.0       NaN       NaN      10        1   \n",
       "2       2.0       2.0       3.0       2.0       NaN      10        1   \n",
       "3       2.0       2.0       3.0       2.0       NaN      10        1   \n",
       "4       2.0       2.0       3.0       2.0       NaN      10        1   \n",
       "\n",
       "   X_METSTAT  X_URBSTAT  X_STSTR     X_STRWT  X_RAWRAKE   X_WT2RAKE  \\\n",
       "0        1.0        1.0    11011   69.640207        1.0   69.640207   \n",
       "1        1.0        1.0    11011   69.640207        1.0   69.640207   \n",
       "2        1.0        1.0    11012  279.748901        1.0  279.748901   \n",
       "3        1.0        1.0    11011   69.640207        1.0   69.640207   \n",
       "4        1.0        1.0    11011   69.640207        1.0   69.640207   \n",
       "\n",
       "   X_IMPRACE  X_CHISPNC  X_DUALUSE  X_DUALCOR    X_LLCPWT2     X_LLCPWT  \\\n",
       "0          1        NaN          1   0.465411   460.002849   284.335672   \n",
       "1          2        NaN          1   0.465411   460.002849   171.283329   \n",
       "2          2        NaN          1   0.465411  1847.859106  1334.368863   \n",
       "3          1        NaN          9        NaN  1472.417322  1297.486618   \n",
       "4          1        NaN          9        NaN  1472.417322   454.815127   \n",
       "\n",
       "   X_RFHLTH  X_PHYS14D  X_MENT14D  X_HCVU651  X_TOTINDA  X_MICHD  X_LTASTH1  \\\n",
       "0         1          2          3          2          1      2.0          2   \n",
       "1         1          1          1          9          1      2.0          2   \n",
       "2         1          1          1          9          1      2.0          1   \n",
       "3         1          1          1          9          2      2.0          1   \n",
       "4         1          1          1          9          1      2.0          1   \n",
       "\n",
       "   X_CASTHM1  X_ASTHMS1  X_DRDXAR2  X_EXTETH3  X_DENVST3  X_PRACE1  X_MRACE1  \\\n",
       "0          2          1        1.0          2          1       1.0       1.0   \n",
       "1          1          2        1.0          2          1       2.0       2.0   \n",
       "2          1          3        1.0          9          1       2.0       2.0   \n",
       "3          1          3        2.0          2          9       1.0       1.0   \n",
       "4          1          3        2.0          1          9       1.0       1.0   \n",
       "\n",
       "   X_HISPANC  X_RACE  X_RACEG21  X_RACEGR3  X_RACEPRV  X_SEX  X_AGEG5YR  \\\n",
       "0          2     1.0        1.0        1.0        1.0      2          8   \n",
       "1          2     2.0        2.0        2.0        2.0      2         10   \n",
       "2          2     2.0        2.0        2.0        2.0      2         10   \n",
       "3          2     1.0        1.0        1.0        1.0      2         13   \n",
       "4          2     1.0        1.0        1.0        1.0      2         13   \n",
       "\n",
       "   X_AGE65YR  X_AGE80  X_AGE_G  HTIN4   HTM4   WTKG3  X_BMI5  X_BMI5CAT  \\\n",
       "0          1       56        5   67.0  170.0  4808.0  1660.0        1.0   \n",
       "1          2       65        6   64.0  163.0  7711.0  2918.0        3.0   \n",
       "2          2       65        6   68.0  173.0     NaN     NaN        NaN   \n",
       "3          2       80        6    NaN    NaN     NaN     NaN        NaN   \n",
       "4          2       80        6   66.0  168.0  5715.0  2034.0        2.0   \n",
       "\n",
       "   X_RFBMI5  X_CHLDCNT  X_EDUCAG  X_INCOMG  X_SMOKER3  X_RFSMOK3  DRNKANY5  \\\n",
       "0         1          1         4         1          1          2         2   \n",
       "1         2          1         4         9          9          9         9   \n",
       "2         9          1         3         5          4          1         2   \n",
       "3         9          1         2         9          4          1         2   \n",
       "4         1          1         4         9          4          1         2   \n",
       "\n",
       "   DROCDY3_  X_RFBING5  X_DRNKWK1  X_RFDRHV7  X_RFSEAT2  X_RFSEAT3  X_DRNKDRV  \\\n",
       "0         0          1          0          1          1          1          9   \n",
       "1       900          9      99900          9          9          9          9   \n",
       "2         0          1          0          1          1          1          9   \n",
       "3         0          1          0          1          1          1          9   \n",
       "4         0          1          0          1          1          1          9   \n",
       "\n",
       "   X_RFMAM22  X_CLNSCPY  X_SGMSCPY  X_SGMS10Y  X_RFBLDS4  X_STOLDNA  \\\n",
       "0        2.0        1.0        3.0        3.0        3.0        3.0   \n",
       "1        9.0        NaN        NaN        NaN        NaN        NaN   \n",
       "2        1.0        1.0        3.0        3.0        3.0        3.0   \n",
       "3        2.0        NaN        NaN        NaN        NaN        NaN   \n",
       "4        1.0        NaN        NaN        NaN        NaN        NaN   \n",
       "\n",
       "   X_VIRCOLN  X_SBONTIM  X_CRCREC1  X_AIDTST4  \n",
       "0        3.0        3.0        1.0        1.0  \n",
       "1        NaN        2.0        NaN        NaN  \n",
       "2        3.0        3.0        1.0        2.0  \n",
       "3        NaN        NaN        NaN        2.0  \n",
       "4        NaN        NaN        NaN        9.0  "
      ]
     },
     "execution_count": 22,
     "metadata": {},
     "output_type": "execute_result"
    }
   ],
   "source": [
    "new_df.head()"
   ]
  },
  {
   "cell_type": "code",
   "execution_count": 23,
   "metadata": {
    "colab": {
     "base_uri": "https://localhost:8080/"
    },
    "id": "e4-kEn2P5cry",
    "outputId": "4bcb4bb0-b170-4c9b-f448-35b7daee466f"
   },
   "outputs": [
    {
     "data": {
      "text/plain": [
       "X_STATE       0.00\n",
       "FMONTH        0.00\n",
       "IDATE         0.00\n",
       "IMONTH        0.00\n",
       "IDAY          0.00\n",
       "IYEAR         0.00\n",
       "DISPCODE      0.00\n",
       "SEQNO         0.00\n",
       "X_PSU         0.00\n",
       "SAFETIME     31.04\n",
       "CTELNUM1     31.04\n",
       "CELLFON5     31.04\n",
       "CADULT1      31.04\n",
       "CELLSEX      31.04\n",
       "PVTRESD3     31.04\n",
       "CSTATE1      31.04\n",
       "LANDLINE     31.04\n",
       "HHADULT      31.04\n",
       "SEXVAR        0.00\n",
       "GENHLTH       0.00\n",
       "PHYSHLTH      0.00\n",
       "MENTHLTH      0.00\n",
       "POORHLTH     49.84\n",
       "HLTHPLN1      0.00\n",
       "PERSDOC2      0.00\n",
       "MEDCOST       0.00\n",
       "CHECKUP1      0.00\n",
       "EXERANY2      0.00\n",
       "SLEPTIM1      0.00\n",
       "CVDINFR4      0.00\n",
       "CVDCRHD4      0.00\n",
       "CVDSTRK3      0.00\n",
       "ASTHMA3       0.00\n",
       "CHCSCNCR      0.00\n",
       "CHCOCNCR      0.00\n",
       "CHCCOPD2      0.00\n",
       "HAVARTH4      0.00\n",
       "ADDEPEV3      0.00\n",
       "CHCKDNY2      0.00\n",
       "DIABETE4      0.00\n",
       "LASTDEN4      0.00\n",
       "RMVTETH4      0.00\n",
       "MARITAL       0.00\n",
       "EDUCA         0.00\n",
       "RENTHOM1      0.00\n",
       "CPDEMO1B      0.03\n",
       "VETERAN3      0.33\n",
       "EMPLOY1       0.73\n",
       "CHILDREN      1.19\n",
       "INCOME2       1.83\n",
       "WEIGHT2       2.45\n",
       "HEIGHT3       2.69\n",
       "DEAF          3.09\n",
       "BLIND         3.31\n",
       "DECIDE        3.57\n",
       "DIFFWALK      3.80\n",
       "DIFFDRES      3.95\n",
       "DIFFALON      4.17\n",
       "SMOKE100      4.44\n",
       "USENOW3       4.60\n",
       "ALCDAY5       5.21\n",
       "AVEDRNK3     52.52\n",
       "DRNK3GE5     52.65\n",
       "MAXDRNKS     52.77\n",
       "FLUSHOT7      5.85\n",
       "FLSHTMY3     51.01\n",
       "SHINGLE2     41.27\n",
       "PNEUVAC4      6.08\n",
       "FALL12MN     34.28\n",
       "SEATBELT      6.35\n",
       "DRNKDRI2     51.85\n",
       "HADMAM       49.37\n",
       "HADPAP2      49.49\n",
       "LASTPAP2     53.60\n",
       "HPVTEST      49.60\n",
       "HADHYST2     50.18\n",
       "COLNSCPY     35.68\n",
       "COLNTEST     54.88\n",
       "SIGMSCPY     35.81\n",
       "BLDSTOL1     35.92\n",
       "STOOLDNA     36.05\n",
       "VIRCOLON     36.19\n",
       "HIVTST7       8.47\n",
       "HIVRISK5      8.94\n",
       "PDIABTST     45.53\n",
       "PREDIAB1     45.52\n",
       "ECIGARET     34.18\n",
       "TRNSGNDR     40.29\n",
       "QSTVER        0.00\n",
       "QSTLANG       0.00\n",
       "X_METSTAT     1.77\n",
       "X_URBSTAT     1.77\n",
       "X_STSTR       0.00\n",
       "X_STRWT       0.00\n",
       "X_RAWRAKE     0.00\n",
       "X_WT2RAKE     0.00\n",
       "X_IMPRACE     0.00\n",
       "X_CHISPNC    31.18\n",
       "X_DUALUSE     0.00\n",
       "X_DUALCOR    55.79\n",
       "X_LLCPWT2     0.00\n",
       "X_LLCPWT      0.00\n",
       "X_RFHLTH      0.00\n",
       "X_PHYS14D     0.00\n",
       "X_MENT14D     0.00\n",
       "X_HCVU651     0.00\n",
       "X_TOTINDA     0.00\n",
       "X_MICHD       0.89\n",
       "X_LTASTH1     0.00\n",
       "X_CASTHM1     0.00\n",
       "X_ASTHMS1     0.00\n",
       "X_DRDXAR2     0.57\n",
       "X_EXTETH3     0.00\n",
       "X_DENVST3     0.00\n",
       "X_PRACE1      0.00\n",
       "X_MRACE1      0.00\n",
       "X_HISPANC     0.00\n",
       "X_RACE        0.00\n",
       "X_RACEG21     0.00\n",
       "X_RACEGR3     0.00\n",
       "X_RACEPRV     0.00\n",
       "X_SEX         0.00\n",
       "X_AGEG5YR     0.00\n",
       "X_AGE65YR     0.00\n",
       "X_AGE80       0.00\n",
       "X_AGE_G       0.00\n",
       "HTIN4         5.92\n",
       "HTM4          5.41\n",
       "WTKG3         8.69\n",
       "X_BMI5       10.29\n",
       "X_BMI5CAT    10.29\n",
       "X_RFBMI5      0.00\n",
       "X_CHLDCNT     0.00\n",
       "X_EDUCAG      0.00\n",
       "X_INCOMG      0.00\n",
       "X_SMOKER3     0.00\n",
       "X_RFSMOK3     0.00\n",
       "DRNKANY5      0.00\n",
       "DROCDY3_      0.00\n",
       "X_RFBING5     0.00\n",
       "X_DRNKWK1     0.00\n",
       "X_RFDRHV7     0.00\n",
       "X_RFSEAT2     0.00\n",
       "X_RFSEAT3     0.00\n",
       "X_DRNKDRV     0.00\n",
       "X_RFMAM22    58.71\n",
       "X_CLNSCPY    55.74\n",
       "X_SGMSCPY    57.34\n",
       "X_SGMS10Y    57.34\n",
       "X_RFBLDS4    56.25\n",
       "X_STOLDNA    56.13\n",
       "X_VIRCOLN    56.64\n",
       "X_SBONTIM    51.68\n",
       "X_CRCREC1    56.29\n",
       "X_AIDTST4     8.47\n",
       "dtype: float64"
      ]
     },
     "execution_count": 23,
     "metadata": {},
     "output_type": "execute_result"
    }
   ],
   "source": [
    "round(100*(new_df.isnull().sum()/len(new_df.index)),2)"
   ]
  },
  {
   "cell_type": "markdown",
   "metadata": {
    "id": "oqLBiNma5K4S"
   },
   "source": [
    "#Selecting columns based on meta data and which are realed to heart problem"
   ]
  },
  {
   "cell_type": "code",
   "execution_count": 24,
   "metadata": {
    "colab": {
     "base_uri": "https://localhost:8080/",
     "height": 270
    },
    "id": "io_4XHYW4rzi",
    "outputId": "d23ff20f-5088-40bb-e1a6-e07585b97776"
   },
   "outputs": [
    {
     "data": {
      "text/html": [
       "<div>\n",
       "<style scoped>\n",
       "    .dataframe tbody tr th:only-of-type {\n",
       "        vertical-align: middle;\n",
       "    }\n",
       "\n",
       "    .dataframe tbody tr th {\n",
       "        vertical-align: top;\n",
       "    }\n",
       "\n",
       "    .dataframe thead th {\n",
       "        text-align: right;\n",
       "    }\n",
       "</style>\n",
       "<table border=\"1\" class=\"dataframe\">\n",
       "  <thead>\n",
       "    <tr style=\"text-align: right;\">\n",
       "      <th></th>\n",
       "      <th>X_MICHD</th>\n",
       "      <th>X_BMI5CAT</th>\n",
       "      <th>X_SMOKER3</th>\n",
       "      <th>CVDSTRK3</th>\n",
       "      <th>SEXVAR</th>\n",
       "      <th>CVDINFR4</th>\n",
       "      <th>X_AGE_G</th>\n",
       "      <th>X_IMPRACE</th>\n",
       "      <th>EXERANY2</th>\n",
       "      <th>GENHLTH</th>\n",
       "      <th>ADDEPEV3</th>\n",
       "      <th>SLEPTIM1</th>\n",
       "      <th>ASTHMA3</th>\n",
       "      <th>X_MENT14D</th>\n",
       "      <th>CHCKDNY2</th>\n",
       "      <th>CHCSCNCR</th>\n",
       "      <th>X_PHYS14D</th>\n",
       "      <th>CHCOCNCR</th>\n",
       "      <th>CHCCOPD2</th>\n",
       "      <th>MARITAL</th>\n",
       "      <th>DIFFWALK</th>\n",
       "    </tr>\n",
       "  </thead>\n",
       "  <tbody>\n",
       "    <tr>\n",
       "      <th>0</th>\n",
       "      <td>2.0</td>\n",
       "      <td>1.0</td>\n",
       "      <td>1</td>\n",
       "      <td>2.0</td>\n",
       "      <td>2</td>\n",
       "      <td>2.0</td>\n",
       "      <td>5</td>\n",
       "      <td>1</td>\n",
       "      <td>1.0</td>\n",
       "      <td>2.0</td>\n",
       "      <td>1.0</td>\n",
       "      <td>5.0</td>\n",
       "      <td>1.0</td>\n",
       "      <td>3</td>\n",
       "      <td>2.0</td>\n",
       "      <td>1.0</td>\n",
       "      <td>2</td>\n",
       "      <td>1.0</td>\n",
       "      <td>1.0</td>\n",
       "      <td>2.0</td>\n",
       "      <td>2.0</td>\n",
       "    </tr>\n",
       "    <tr>\n",
       "      <th>1</th>\n",
       "      <td>2.0</td>\n",
       "      <td>3.0</td>\n",
       "      <td>9</td>\n",
       "      <td>2.0</td>\n",
       "      <td>2</td>\n",
       "      <td>2.0</td>\n",
       "      <td>6</td>\n",
       "      <td>2</td>\n",
       "      <td>1.0</td>\n",
       "      <td>3.0</td>\n",
       "      <td>1.0</td>\n",
       "      <td>7.0</td>\n",
       "      <td>1.0</td>\n",
       "      <td>1</td>\n",
       "      <td>2.0</td>\n",
       "      <td>2.0</td>\n",
       "      <td>1</td>\n",
       "      <td>2.0</td>\n",
       "      <td>2.0</td>\n",
       "      <td>3.0</td>\n",
       "      <td>2.0</td>\n",
       "    </tr>\n",
       "    <tr>\n",
       "      <th>2</th>\n",
       "      <td>2.0</td>\n",
       "      <td>NaN</td>\n",
       "      <td>4</td>\n",
       "      <td>2.0</td>\n",
       "      <td>2</td>\n",
       "      <td>2.0</td>\n",
       "      <td>6</td>\n",
       "      <td>2</td>\n",
       "      <td>1.0</td>\n",
       "      <td>3.0</td>\n",
       "      <td>2.0</td>\n",
       "      <td>7.0</td>\n",
       "      <td>2.0</td>\n",
       "      <td>1</td>\n",
       "      <td>2.0</td>\n",
       "      <td>2.0</td>\n",
       "      <td>1</td>\n",
       "      <td>1.0</td>\n",
       "      <td>2.0</td>\n",
       "      <td>1.0</td>\n",
       "      <td>2.0</td>\n",
       "    </tr>\n",
       "    <tr>\n",
       "      <th>3</th>\n",
       "      <td>2.0</td>\n",
       "      <td>NaN</td>\n",
       "      <td>4</td>\n",
       "      <td>2.0</td>\n",
       "      <td>2</td>\n",
       "      <td>2.0</td>\n",
       "      <td>6</td>\n",
       "      <td>1</td>\n",
       "      <td>2.0</td>\n",
       "      <td>1.0</td>\n",
       "      <td>2.0</td>\n",
       "      <td>6.0</td>\n",
       "      <td>2.0</td>\n",
       "      <td>1</td>\n",
       "      <td>2.0</td>\n",
       "      <td>2.0</td>\n",
       "      <td>1</td>\n",
       "      <td>2.0</td>\n",
       "      <td>2.0</td>\n",
       "      <td>3.0</td>\n",
       "      <td>2.0</td>\n",
       "    </tr>\n",
       "    <tr>\n",
       "      <th>4</th>\n",
       "      <td>2.0</td>\n",
       "      <td>2.0</td>\n",
       "      <td>4</td>\n",
       "      <td>1.0</td>\n",
       "      <td>2</td>\n",
       "      <td>2.0</td>\n",
       "      <td>6</td>\n",
       "      <td>1</td>\n",
       "      <td>1.0</td>\n",
       "      <td>2.0</td>\n",
       "      <td>2.0</td>\n",
       "      <td>7.0</td>\n",
       "      <td>2.0</td>\n",
       "      <td>1</td>\n",
       "      <td>2.0</td>\n",
       "      <td>2.0</td>\n",
       "      <td>1</td>\n",
       "      <td>2.0</td>\n",
       "      <td>2.0</td>\n",
       "      <td>3.0</td>\n",
       "      <td>2.0</td>\n",
       "    </tr>\n",
       "  </tbody>\n",
       "</table>\n",
       "</div>"
      ],
      "text/plain": [
       "   X_MICHD  X_BMI5CAT  X_SMOKER3  CVDSTRK3  SEXVAR  CVDINFR4  X_AGE_G  \\\n",
       "0      2.0        1.0          1       2.0       2       2.0        5   \n",
       "1      2.0        3.0          9       2.0       2       2.0        6   \n",
       "2      2.0        NaN          4       2.0       2       2.0        6   \n",
       "3      2.0        NaN          4       2.0       2       2.0        6   \n",
       "4      2.0        2.0          4       1.0       2       2.0        6   \n",
       "\n",
       "   X_IMPRACE  EXERANY2  GENHLTH  ADDEPEV3  SLEPTIM1  ASTHMA3  X_MENT14D  \\\n",
       "0          1       1.0      2.0       1.0       5.0      1.0          3   \n",
       "1          2       1.0      3.0       1.0       7.0      1.0          1   \n",
       "2          2       1.0      3.0       2.0       7.0      2.0          1   \n",
       "3          1       2.0      1.0       2.0       6.0      2.0          1   \n",
       "4          1       1.0      2.0       2.0       7.0      2.0          1   \n",
       "\n",
       "   CHCKDNY2  CHCSCNCR  X_PHYS14D  CHCOCNCR  CHCCOPD2  MARITAL  DIFFWALK  \n",
       "0       2.0       1.0          2       1.0       1.0      2.0       2.0  \n",
       "1       2.0       2.0          1       2.0       2.0      3.0       2.0  \n",
       "2       2.0       2.0          1       1.0       2.0      1.0       2.0  \n",
       "3       2.0       2.0          1       2.0       2.0      3.0       2.0  \n",
       "4       2.0       2.0          1       2.0       2.0      3.0       2.0  "
      ]
     },
     "execution_count": 24,
     "metadata": {},
     "output_type": "execute_result"
    }
   ],
   "source": [
    "new2_df = new_df[['X_MICHD','X_BMI5CAT','X_SMOKER3','CVDSTRK3','SEXVAR','CVDINFR4'\n",
    "            ,'X_AGE_G','X_IMPRACE','EXERANY2','GENHLTH','ADDEPEV3','SLEPTIM1','ASTHMA3','X_MENT14D',\n",
    "             'CHCKDNY2','CHCSCNCR','X_PHYS14D','CHCOCNCR','CHCCOPD2','MARITAL','DIFFWALK']]\n",
    "new2_df.head()"
   ]
  },
  {
   "cell_type": "code",
   "execution_count": 25,
   "metadata": {
    "colab": {
     "base_uri": "https://localhost:8080/"
    },
    "id": "ZsTuFCwHCwKi",
    "outputId": "dd3abe4a-b133-4cc8-fc50-0b83391ca3ca"
   },
   "outputs": [
    {
     "data": {
      "text/plain": [
       "(401958, 21)"
      ]
     },
     "execution_count": 25,
     "metadata": {},
     "output_type": "execute_result"
    }
   ],
   "source": [
    "new2_df.shape"
   ]
  },
  {
   "cell_type": "markdown",
   "metadata": {
    "id": "qMzoAeLG5KYr"
   },
   "source": [
    "#Analysing categorical variables and replacing null values"
   ]
  },
  {
   "cell_type": "code",
   "execution_count": 26,
   "metadata": {
    "id": "_DLLy1fiEDxN"
   },
   "outputs": [],
   "source": [
    "import seaborn as sns"
   ]
  },
  {
   "cell_type": "code",
   "execution_count": 27,
   "metadata": {
    "id": "_E88AuTwNpYx"
   },
   "outputs": [],
   "source": [
    "\n",
    "new2_df=new2_df.drop(\"SLEPTIM1\",axis=1)"
   ]
  },
  {
   "cell_type": "code",
   "execution_count": 28,
   "metadata": {
    "colab": {
     "base_uri": "https://localhost:8080/"
    },
    "id": "rcZ9vsjp5IRZ",
    "outputId": "00665b75-41aa-4b9a-c5e8-24989ef383b5"
   },
   "outputs": [
    {
     "data": {
      "text/plain": [
       "array([ 2.,  1., nan])"
      ]
     },
     "execution_count": 28,
     "metadata": {},
     "output_type": "execute_result"
    }
   ],
   "source": [
    "new2_df[\"X_MICHD\"].unique() #here two means no and yes ao that realpcing it"
   ]
  },
  {
   "cell_type": "code",
   "execution_count": 29,
   "metadata": {
    "colab": {
     "base_uri": "https://localhost:8080/"
    },
    "id": "yfkk_otQ_IPg",
    "outputId": "e945ab07-880c-43ff-afb1-a965792532d1"
   },
   "outputs": [
    {
     "data": {
      "text/plain": [
       "array([ 0.,  1., nan])"
      ]
     },
     "execution_count": 29,
     "metadata": {},
     "output_type": "execute_result"
    }
   ],
   "source": [
    "new2_df[\"X_MICHD\"] = new2_df[\"X_MICHD\"].replace({2: 0, 1: 1})\n",
    "#0 no 1 Yes\n",
    "new2_df[\"X_MICHD\"].unique()"
   ]
  },
  {
   "cell_type": "code",
   "execution_count": 30,
   "metadata": {
    "id": "ir5x5qJCNGKJ"
   },
   "outputs": [],
   "source": [
    "columns_list=pd.Series(new2_df.columns)\n"
   ]
  },
  {
   "cell_type": "code",
   "execution_count": 31,
   "metadata": {
    "id": "iuci-V3fE-zz"
   },
   "outputs": [],
   "source": [
    "def check_unique(l):\n",
    "  for i in l:\n",
    "    print(\"unnique values in  \",i,\"is \", new2_df[i].unique())"
   ]
  },
  {
   "cell_type": "code",
   "execution_count": 32,
   "metadata": {
    "id": "zCfzJl7PD7-U"
   },
   "outputs": [],
   "source": [
    "def count_plot(l):\n",
    "  for i in l:\n",
    "     ax=sns.countplot(x=new2_df[i].values,data=new_df[i])\n",
    "     ax.set_xticklabels(ax.get_xticklabels(),rotation=90)\n",
    "     plt.title(i, fontsize=18)\n",
    "     plt.figure(figsize=(20,10))"
   ]
  },
  {
   "cell_type": "code",
   "execution_count": 33,
   "metadata": {
    "id": "zp4ToGYXMp7e"
   },
   "outputs": [],
   "source": [
    "#count_plot(columns_list)"
   ]
  },
  {
   "cell_type": "code",
   "execution_count": 34,
   "metadata": {
    "colab": {
     "base_uri": "https://localhost:8080/"
    },
    "id": "tiJ0Mrp5EgM-",
    "outputId": "25e4b471-fc7e-4e42-81a8-16efcaf30d0c"
   },
   "outputs": [
    {
     "name": "stdout",
     "output_type": "stream",
     "text": [
      "unnique values in   X_MICHD is  [ 0.  1. nan]\n",
      "unnique values in   X_BMI5CAT is  [ 1.  3. nan  2.  4.]\n",
      "unnique values in   X_SMOKER3 is  [1 9 4 3 2]\n",
      "unnique values in   CVDSTRK3 is  [ 2.  1.  7.  9. nan]\n",
      "unnique values in   SEXVAR is  [2 1]\n",
      "unnique values in   CVDINFR4 is  [ 2.  7.  1.  9. nan]\n",
      "unnique values in   X_AGE_G is  [5 6 3 4 1 2]\n",
      "unnique values in   X_IMPRACE is  [1 2 3 4 6 5]\n",
      "unnique values in   EXERANY2 is  [ 1.  2.  7. nan  9.]\n",
      "unnique values in   GENHLTH is  [ 2.  3.  1.  4.  5.  7.  9. nan]\n",
      "unnique values in   ADDEPEV3 is  [ 1.  2.  9. nan  7.]\n",
      "unnique values in   ASTHMA3 is  [ 1.  2.  7.  9. nan]\n",
      "unnique values in   X_MENT14D is  [3 1 2 9]\n",
      "unnique values in   CHCKDNY2 is  [ 2.  1.  7. nan  9.]\n",
      "unnique values in   CHCSCNCR is  [ 1.  2.  7.  9. nan]\n",
      "unnique values in   X_PHYS14D is  [2 1 3 9]\n",
      "unnique values in   CHCOCNCR is  [ 1.  2.  7.  9. nan]\n",
      "unnique values in   CHCCOPD2 is  [ 1.  2.  7. nan  9.]\n",
      "unnique values in   MARITAL is  [ 2.  3.  1.  4.  5.  6.  9. nan]\n",
      "unnique values in   DIFFWALK is  [ 2.  1. nan  7.  9.]\n"
     ]
    }
   ],
   "source": [
    "check_unique(columns_list)"
   ]
  },
  {
   "cell_type": "markdown",
   "metadata": {
    "id": "yx0np5kDF5WL"
   },
   "source": [
    "#Replacing all null values with mode of that column"
   ]
  },
  {
   "cell_type": "code",
   "execution_count": 35,
   "metadata": {
    "id": "wzgnhmiDFbTe"
   },
   "outputs": [],
   "source": [
    "def replace_null(l):\n",
    "  for i in l:\n",
    "    new2_df[i]=new2_df[i].replace(np.nan,new2_df[i].mode()[0])"
   ]
  },
  {
   "cell_type": "code",
   "execution_count": 36,
   "metadata": {
    "id": "8w1MZJxIGM_R"
   },
   "outputs": [],
   "source": [
    "replace_null(columns_list)"
   ]
  },
  {
   "cell_type": "code",
   "execution_count": 37,
   "metadata": {
    "colab": {
     "base_uri": "https://localhost:8080/"
    },
    "id": "fMyR3X_FGuDu",
    "outputId": "2f3c0548-a05d-4737-c0d2-de3d828e672e"
   },
   "outputs": [
    {
     "data": {
      "text/plain": [
       "X_MICHD      0\n",
       "X_BMI5CAT    0\n",
       "X_SMOKER3    0\n",
       "CVDSTRK3     0\n",
       "SEXVAR       0\n",
       "CVDINFR4     0\n",
       "X_AGE_G      0\n",
       "X_IMPRACE    0\n",
       "EXERANY2     0\n",
       "GENHLTH      0\n",
       "ADDEPEV3     0\n",
       "ASTHMA3      0\n",
       "X_MENT14D    0\n",
       "CHCKDNY2     0\n",
       "CHCSCNCR     0\n",
       "X_PHYS14D    0\n",
       "CHCOCNCR     0\n",
       "CHCCOPD2     0\n",
       "MARITAL      0\n",
       "DIFFWALK     0\n",
       "dtype: int64"
      ]
     },
     "execution_count": 37,
     "metadata": {},
     "output_type": "execute_result"
    }
   ],
   "source": [
    "new2_df.isna().sum()"
   ]
  },
  {
   "cell_type": "code",
   "execution_count": 38,
   "metadata": {
    "colab": {
     "base_uri": "https://localhost:8080/"
    },
    "id": "HWJEo5mnHtme",
    "outputId": "871806fa-a6f1-4bbf-e677-8719d197f478"
   },
   "outputs": [
    {
     "data": {
      "text/plain": [
       "(401958, 20)"
      ]
     },
     "execution_count": 38,
     "metadata": {},
     "output_type": "execute_result"
    }
   ],
   "source": [
    "new2_df.shape"
   ]
  },
  {
   "cell_type": "markdown",
   "metadata": {
    "id": "dFlTMz5bHhPI"
   },
   "source": [
    "#Analysing continous column"
   ]
  },
  {
   "cell_type": "code",
   "execution_count": 39,
   "metadata": {
    "colab": {
     "base_uri": "https://localhost:8080/"
    },
    "id": "P4gsFbWKGxRN",
    "outputId": "cc331fdc-3be8-4cf0-bd72-fc36d4f1619a"
   },
   "outputs": [
    {
     "data": {
      "text/plain": [
       "3"
      ]
     },
     "execution_count": 39,
     "metadata": {},
     "output_type": "execute_result"
    }
   ],
   "source": [
    "new_df[\"SLEPTIM1\"].isna().sum()"
   ]
  },
  {
   "cell_type": "code",
   "execution_count": 40,
   "metadata": {
    "colab": {
     "base_uri": "https://localhost:8080/",
     "height": 316
    },
    "id": "91id1KJuZ3_X",
    "outputId": "b3bfb5ac-2ea9-4d34-e8f4-80f8e34210c4"
   },
   "outputs": [
    {
     "name": "stdout",
     "output_type": "stream",
     "text": [
      "8.786135023047517\n",
      "79.10382716620087\n"
     ]
    },
    {
     "data": {
      "image/png": "[encoded data removed]",
      "text/plain": [
       "<Figure size 640x480 with 1 Axes>"
      ]
     },
     "metadata": {},
     "output_type": "display_data"
    }
   ],
   "source": [
    "sns.distplot(new_df[\"SLEPTIM1\"])\n",
    "print(new_df[\"SLEPTIM1\"].skew())\n",
    "print(new_df[\"SLEPTIM1\"].kurt())"
   ]
  },
  {
   "cell_type": "code",
   "execution_count": 41,
   "metadata": {
    "id": "c_H1VFk6asvv"
   },
   "outputs": [],
   "source": [
    "new_df[\"SLEPTIM1\"]=new_df[\"SLEPTIM1\"].replace(np.nan,new_df[\"SLEPTIM1\"].mean())"
   ]
  },
  {
   "cell_type": "code",
   "execution_count": 42,
   "metadata": {
    "id": "IxxYZX09bJAf"
   },
   "outputs": [],
   "source": [
    "new2_df[\"SLEPTIM1\"]=new_df[\"SLEPTIM1\"]"
   ]
  },
  {
   "cell_type": "code",
   "execution_count": 43,
   "metadata": {
    "colab": {
     "base_uri": "https://localhost:8080/",
     "height": 270
    },
    "id": "cQIjzpKFbUq4",
    "outputId": "757b47ef-12e9-4962-e71b-ab3b33b985c1"
   },
   "outputs": [
    {
     "data": {
      "text/html": [
       "<div>\n",
       "<style scoped>\n",
       "    .dataframe tbody tr th:only-of-type {\n",
       "        vertical-align: middle;\n",
       "    }\n",
       "\n",
       "    .dataframe tbody tr th {\n",
       "        vertical-align: top;\n",
       "    }\n",
       "\n",
       "    .dataframe thead th {\n",
       "        text-align: right;\n",
       "    }\n",
       "</style>\n",
       "<table border=\"1\" class=\"dataframe\">\n",
       "  <thead>\n",
       "    <tr style=\"text-align: right;\">\n",
       "      <th></th>\n",
       "      <th>X_MICHD</th>\n",
       "      <th>X_BMI5CAT</th>\n",
       "      <th>X_SMOKER3</th>\n",
       "      <th>CVDSTRK3</th>\n",
       "      <th>SEXVAR</th>\n",
       "      <th>CVDINFR4</th>\n",
       "      <th>X_AGE_G</th>\n",
       "      <th>X_IMPRACE</th>\n",
       "      <th>EXERANY2</th>\n",
       "      <th>GENHLTH</th>\n",
       "      <th>ADDEPEV3</th>\n",
       "      <th>ASTHMA3</th>\n",
       "      <th>X_MENT14D</th>\n",
       "      <th>CHCKDNY2</th>\n",
       "      <th>CHCSCNCR</th>\n",
       "      <th>X_PHYS14D</th>\n",
       "      <th>CHCOCNCR</th>\n",
       "      <th>CHCCOPD2</th>\n",
       "      <th>MARITAL</th>\n",
       "      <th>DIFFWALK</th>\n",
       "      <th>SLEPTIM1</th>\n",
       "    </tr>\n",
       "  </thead>\n",
       "  <tbody>\n",
       "    <tr>\n",
       "      <th>0</th>\n",
       "      <td>0.0</td>\n",
       "      <td>1.0</td>\n",
       "      <td>1</td>\n",
       "      <td>2.0</td>\n",
       "      <td>2</td>\n",
       "      <td>2.0</td>\n",
       "      <td>5</td>\n",
       "      <td>1</td>\n",
       "      <td>1.0</td>\n",
       "      <td>2.0</td>\n",
       "      <td>1.0</td>\n",
       "      <td>1.0</td>\n",
       "      <td>3</td>\n",
       "      <td>2.0</td>\n",
       "      <td>1.0</td>\n",
       "      <td>2</td>\n",
       "      <td>1.0</td>\n",
       "      <td>1.0</td>\n",
       "      <td>2.0</td>\n",
       "      <td>2.0</td>\n",
       "      <td>5.0</td>\n",
       "    </tr>\n",
       "    <tr>\n",
       "      <th>1</th>\n",
       "      <td>0.0</td>\n",
       "      <td>3.0</td>\n",
       "      <td>9</td>\n",
       "      <td>2.0</td>\n",
       "      <td>2</td>\n",
       "      <td>2.0</td>\n",
       "      <td>6</td>\n",
       "      <td>2</td>\n",
       "      <td>1.0</td>\n",
       "      <td>3.0</td>\n",
       "      <td>1.0</td>\n",
       "      <td>1.0</td>\n",
       "      <td>1</td>\n",
       "      <td>2.0</td>\n",
       "      <td>2.0</td>\n",
       "      <td>1</td>\n",
       "      <td>2.0</td>\n",
       "      <td>2.0</td>\n",
       "      <td>3.0</td>\n",
       "      <td>2.0</td>\n",
       "      <td>7.0</td>\n",
       "    </tr>\n",
       "    <tr>\n",
       "      <th>2</th>\n",
       "      <td>0.0</td>\n",
       "      <td>3.0</td>\n",
       "      <td>4</td>\n",
       "      <td>2.0</td>\n",
       "      <td>2</td>\n",
       "      <td>2.0</td>\n",
       "      <td>6</td>\n",
       "      <td>2</td>\n",
       "      <td>1.0</td>\n",
       "      <td>3.0</td>\n",
       "      <td>2.0</td>\n",
       "      <td>2.0</td>\n",
       "      <td>1</td>\n",
       "      <td>2.0</td>\n",
       "      <td>2.0</td>\n",
       "      <td>1</td>\n",
       "      <td>1.0</td>\n",
       "      <td>2.0</td>\n",
       "      <td>1.0</td>\n",
       "      <td>2.0</td>\n",
       "      <td>7.0</td>\n",
       "    </tr>\n",
       "    <tr>\n",
       "      <th>3</th>\n",
       "      <td>0.0</td>\n",
       "      <td>3.0</td>\n",
       "      <td>4</td>\n",
       "      <td>2.0</td>\n",
       "      <td>2</td>\n",
       "      <td>2.0</td>\n",
       "      <td>6</td>\n",
       "      <td>1</td>\n",
       "      <td>2.0</td>\n",
       "      <td>1.0</td>\n",
       "      <td>2.0</td>\n",
       "      <td>2.0</td>\n",
       "      <td>1</td>\n",
       "      <td>2.0</td>\n",
       "      <td>2.0</td>\n",
       "      <td>1</td>\n",
       "      <td>2.0</td>\n",
       "      <td>2.0</td>\n",
       "      <td>3.0</td>\n",
       "      <td>2.0</td>\n",
       "      <td>6.0</td>\n",
       "    </tr>\n",
       "    <tr>\n",
       "      <th>4</th>\n",
       "      <td>0.0</td>\n",
       "      <td>2.0</td>\n",
       "      <td>4</td>\n",
       "      <td>1.0</td>\n",
       "      <td>2</td>\n",
       "      <td>2.0</td>\n",
       "      <td>6</td>\n",
       "      <td>1</td>\n",
       "      <td>1.0</td>\n",
       "      <td>2.0</td>\n",
       "      <td>2.0</td>\n",
       "      <td>2.0</td>\n",
       "      <td>1</td>\n",
       "      <td>2.0</td>\n",
       "      <td>2.0</td>\n",
       "      <td>1</td>\n",
       "      <td>2.0</td>\n",
       "      <td>2.0</td>\n",
       "      <td>3.0</td>\n",
       "      <td>2.0</td>\n",
       "      <td>7.0</td>\n",
       "    </tr>\n",
       "  </tbody>\n",
       "</table>\n",
       "</div>"
      ],
      "text/plain": [
       "   X_MICHD  X_BMI5CAT  X_SMOKER3  CVDSTRK3  SEXVAR  CVDINFR4  X_AGE_G  \\\n",
       "0      0.0        1.0          1       2.0       2       2.0        5   \n",
       "1      0.0        3.0          9       2.0       2       2.0        6   \n",
       "2      0.0        3.0          4       2.0       2       2.0        6   \n",
       "3      0.0        3.0          4       2.0       2       2.0        6   \n",
       "4      0.0        2.0          4       1.0       2       2.0        6   \n",
       "\n",
       "   X_IMPRACE  EXERANY2  GENHLTH  ADDEPEV3  ASTHMA3  X_MENT14D  CHCKDNY2  \\\n",
       "0          1       1.0      2.0       1.0      1.0          3       2.0   \n",
       "1          2       1.0      3.0       1.0      1.0          1       2.0   \n",
       "2          2       1.0      3.0       2.0      2.0          1       2.0   \n",
       "3          1       2.0      1.0       2.0      2.0          1       2.0   \n",
       "4          1       1.0      2.0       2.0      2.0          1       2.0   \n",
       "\n",
       "   CHCSCNCR  X_PHYS14D  CHCOCNCR  CHCCOPD2  MARITAL  DIFFWALK  SLEPTIM1  \n",
       "0       1.0          2       1.0       1.0      2.0       2.0       5.0  \n",
       "1       2.0          1       2.0       2.0      3.0       2.0       7.0  \n",
       "2       2.0          1       1.0       2.0      1.0       2.0       7.0  \n",
       "3       2.0          1       2.0       2.0      3.0       2.0       6.0  \n",
       "4       2.0          1       2.0       2.0      3.0       2.0       7.0  "
      ]
     },
     "execution_count": 43,
     "metadata": {},
     "output_type": "execute_result"
    }
   ],
   "source": [
    "new2_df.head()"
   ]
  },
  {
   "cell_type": "code",
   "execution_count": 44,
   "metadata": {
    "colab": {
     "base_uri": "https://localhost:8080/"
    },
    "id": "u8iR-7svbW-7",
    "outputId": "53636f37-bea2-41a0-8c98-498fa49193a0"
   },
   "outputs": [
    {
     "data": {
      "text/plain": [
       "(401958, 21)"
      ]
     },
     "execution_count": 44,
     "metadata": {},
     "output_type": "execute_result"
    }
   ],
   "source": [
    "new2_df.shape"
   ]
  },
  {
   "cell_type": "code",
   "execution_count": 45,
   "metadata": {
    "colab": {
     "base_uri": "https://localhost:8080/"
    },
    "id": "VYiNdUlPbaBb",
    "outputId": "6af079a6-093d-4bcf-a348-794aaf0ef0bf"
   },
   "outputs": [
    {
     "data": {
      "text/plain": [
       "X_MICHD      0\n",
       "X_BMI5CAT    0\n",
       "X_SMOKER3    0\n",
       "CVDSTRK3     0\n",
       "SEXVAR       0\n",
       "CVDINFR4     0\n",
       "X_AGE_G      0\n",
       "X_IMPRACE    0\n",
       "EXERANY2     0\n",
       "GENHLTH      0\n",
       "ADDEPEV3     0\n",
       "ASTHMA3      0\n",
       "X_MENT14D    0\n",
       "CHCKDNY2     0\n",
       "CHCSCNCR     0\n",
       "X_PHYS14D    0\n",
       "CHCOCNCR     0\n",
       "CHCCOPD2     0\n",
       "MARITAL      0\n",
       "DIFFWALK     0\n",
       "SLEPTIM1     0\n",
       "dtype: int64"
      ]
     },
     "execution_count": 45,
     "metadata": {},
     "output_type": "execute_result"
    }
   ],
   "source": [
    "new2_df.isna().sum()"
   ]
  },
  {
   "cell_type": "markdown",
   "metadata": {
    "id": "ES4TJ_74s5nd"
   },
   "source": [
    "#Balancing data set usng Random over sampling"
   ]
  },
  {
   "cell_type": "code",
   "execution_count": 48,
   "metadata": {
    "id": "EgN55tIGtJjy"
   },
   "outputs": [],
   "source": [
    "X=new2_df.drop('X_MICHD',axis=1)\n",
    "Y=new2_df['X_MICHD']"
   ]
  },
  {
   "cell_type": "code",
   "execution_count": 49,
   "metadata": {
    "id": "h9Y-Ewy1buJL"
   },
   "outputs": [],
   "source": [
    "from imblearn.over_sampling import RandomOverSampler\n",
    "os1 = RandomOverSampler()\n",
    "X_res,y_res=os1.fit_resample(X, Y)"
   ]
  },
  {
   "cell_type": "code",
   "execution_count": 50,
   "metadata": {
    "colab": {
     "base_uri": "https://localhost:8080/",
     "height": 676
    },
    "id": "hT8enRmTtkIo",
    "outputId": "0345a221-ec04-4bfb-de8f-b7877d82736a"
   },
   "outputs": [
    {
     "data": {
      "text/html": [
       "<div>\n",
       "<style scoped>\n",
       "    .dataframe tbody tr th:only-of-type {\n",
       "        vertical-align: middle;\n",
       "    }\n",
       "\n",
       "    .dataframe tbody tr th {\n",
       "        vertical-align: top;\n",
       "    }\n",
       "\n",
       "    .dataframe thead th {\n",
       "        text-align: right;\n",
       "    }\n",
       "</style>\n",
       "<table border=\"1\" class=\"dataframe\">\n",
       "  <thead>\n",
       "    <tr style=\"text-align: right;\">\n",
       "      <th></th>\n",
       "      <th>Specs</th>\n",
       "      <th>Score</th>\n",
       "    </tr>\n",
       "  </thead>\n",
       "  <tbody>\n",
       "    <tr>\n",
       "      <th>5</th>\n",
       "      <td>X_AGE_G</td>\n",
       "      <td>55622.406364</td>\n",
       "    </tr>\n",
       "    <tr>\n",
       "      <th>8</th>\n",
       "      <td>GENHLTH</td>\n",
       "      <td>53993.902308</td>\n",
       "    </tr>\n",
       "    <tr>\n",
       "      <th>4</th>\n",
       "      <td>CVDINFR4</td>\n",
       "      <td>41978.070484</td>\n",
       "    </tr>\n",
       "    <tr>\n",
       "      <th>14</th>\n",
       "      <td>X_PHYS14D</td>\n",
       "      <td>25721.113967</td>\n",
       "    </tr>\n",
       "    <tr>\n",
       "      <th>19</th>\n",
       "      <td>SLEPTIM1</td>\n",
       "      <td>7559.681995</td>\n",
       "    </tr>\n",
       "    <tr>\n",
       "      <th>17</th>\n",
       "      <td>MARITAL</td>\n",
       "      <td>5727.536033</td>\n",
       "    </tr>\n",
       "    <tr>\n",
       "      <th>18</th>\n",
       "      <td>DIFFWALK</td>\n",
       "      <td>5511.133361</td>\n",
       "    </tr>\n",
       "    <tr>\n",
       "      <th>1</th>\n",
       "      <td>X_SMOKER3</td>\n",
       "      <td>4118.524047</td>\n",
       "    </tr>\n",
       "    <tr>\n",
       "      <th>6</th>\n",
       "      <td>X_IMPRACE</td>\n",
       "      <td>3830.520074</td>\n",
       "    </tr>\n",
       "    <tr>\n",
       "      <th>7</th>\n",
       "      <td>EXERANY2</td>\n",
       "      <td>3284.982898</td>\n",
       "    </tr>\n",
       "    <tr>\n",
       "      <th>16</th>\n",
       "      <td>CHCCOPD2</td>\n",
       "      <td>2120.520412</td>\n",
       "    </tr>\n",
       "    <tr>\n",
       "      <th>3</th>\n",
       "      <td>SEXVAR</td>\n",
       "      <td>1829.737891</td>\n",
       "    </tr>\n",
       "    <tr>\n",
       "      <th>2</th>\n",
       "      <td>CVDSTRK3</td>\n",
       "      <td>1352.446416</td>\n",
       "    </tr>\n",
       "    <tr>\n",
       "      <th>0</th>\n",
       "      <td>X_BMI5CAT</td>\n",
       "      <td>1171.704107</td>\n",
       "    </tr>\n",
       "    <tr>\n",
       "      <th>13</th>\n",
       "      <td>CHCSCNCR</td>\n",
       "      <td>877.384135</td>\n",
       "    </tr>\n",
       "    <tr>\n",
       "      <th>15</th>\n",
       "      <td>CHCOCNCR</td>\n",
       "      <td>785.705359</td>\n",
       "    </tr>\n",
       "    <tr>\n",
       "      <th>11</th>\n",
       "      <td>X_MENT14D</td>\n",
       "      <td>650.698665</td>\n",
       "    </tr>\n",
       "    <tr>\n",
       "      <th>12</th>\n",
       "      <td>CHCKDNY2</td>\n",
       "      <td>573.246993</td>\n",
       "    </tr>\n",
       "    <tr>\n",
       "      <th>9</th>\n",
       "      <td>ADDEPEV3</td>\n",
       "      <td>368.099474</td>\n",
       "    </tr>\n",
       "    <tr>\n",
       "      <th>10</th>\n",
       "      <td>ASTHMA3</td>\n",
       "      <td>277.242556</td>\n",
       "    </tr>\n",
       "  </tbody>\n",
       "</table>\n",
       "</div>"
      ],
      "text/plain": [
       "        Specs         Score\n",
       "5     X_AGE_G  55622.406364\n",
       "8     GENHLTH  53993.902308\n",
       "4    CVDINFR4  41978.070484\n",
       "14  X_PHYS14D  25721.113967\n",
       "19   SLEPTIM1   7559.681995\n",
       "17    MARITAL   5727.536033\n",
       "18   DIFFWALK   5511.133361\n",
       "1   X_SMOKER3   4118.524047\n",
       "6   X_IMPRACE   3830.520074\n",
       "7    EXERANY2   3284.982898\n",
       "16   CHCCOPD2   2120.520412\n",
       "3      SEXVAR   1829.737891\n",
       "2    CVDSTRK3   1352.446416\n",
       "0   X_BMI5CAT   1171.704107\n",
       "13   CHCSCNCR    877.384135\n",
       "15   CHCOCNCR    785.705359\n",
       "11  X_MENT14D    650.698665\n",
       "12   CHCKDNY2    573.246993\n",
       "9    ADDEPEV3    368.099474\n",
       "10    ASTHMA3    277.242556"
      ]
     },
     "execution_count": 50,
     "metadata": {},
     "output_type": "execute_result"
    }
   ],
   "source": [
    "from sklearn.feature_selection import SelectKBest\n",
    "from sklearn.feature_selection import chi2\n",
    "bestfeatures = SelectKBest(score_func=chi2, k=10)\n",
    "fit = bestfeatures.fit(X_res,y_res)\n",
    "dfscores = pd.DataFrame(fit.scores_)\n",
    "dfcolumns = pd.DataFrame(X.columns)\n",
    "featureScores = pd.concat([dfcolumns,dfscores],axis=1)\n",
    "featureScores.columns = ['Specs','Score']\n",
    "featureScores.sort_values(by='Score',ascending=[False])"
   ]
  },
  {
   "cell_type": "code",
   "execution_count": 51,
   "metadata": {
    "colab": {
     "base_uri": "https://localhost:8080/"
    },
    "id": "WFayVAduN67I",
    "outputId": "d794b606-16f0-4e27-c983-f1364ae9beaa"
   },
   "outputs": [
    {
     "name": "stdout",
     "output_type": "stream",
     "text": [
      "        Specs         Score\n",
      "5     X_AGE_G  55622.406364\n",
      "8     GENHLTH  53993.902308\n",
      "4    CVDINFR4  41978.070484\n",
      "14  X_PHYS14D  25721.113967\n",
      "19   SLEPTIM1   7559.681995\n",
      "17    MARITAL   5727.536033\n",
      "18   DIFFWALK   5511.133361\n",
      "1   X_SMOKER3   4118.524047\n",
      "6   X_IMPRACE   3830.520074\n",
      "7    EXERANY2   3284.982898\n",
      "16   CHCCOPD2   2120.520412\n",
      "3      SEXVAR   1829.737891\n",
      "2    CVDSTRK3   1352.446416\n",
      "0   X_BMI5CAT   1171.704107\n",
      "13   CHCSCNCR    877.384135\n"
     ]
    }
   ],
   "source": [
    "print(featureScores.nlargest(15,'Score'))"
   ]
  },
  {
   "cell_type": "code",
   "execution_count": 52,
   "metadata": {
    "colab": {
     "base_uri": "https://localhost:8080/",
     "height": 270
    },
    "id": "Bw10lnQCQeog",
    "outputId": "063f454a-6caa-4e29-dd19-e815f4519c55"
   },
   "outputs": [
    {
     "data": {
      "text/html": [
       "<div>\n",
       "<style scoped>\n",
       "    .dataframe tbody tr th:only-of-type {\n",
       "        vertical-align: middle;\n",
       "    }\n",
       "\n",
       "    .dataframe tbody tr th {\n",
       "        vertical-align: top;\n",
       "    }\n",
       "\n",
       "    .dataframe thead th {\n",
       "        text-align: right;\n",
       "    }\n",
       "</style>\n",
       "<table border=\"1\" class=\"dataframe\">\n",
       "  <thead>\n",
       "    <tr style=\"text-align: right;\">\n",
       "      <th></th>\n",
       "      <th>X_BMI5CAT</th>\n",
       "      <th>X_SMOKER3</th>\n",
       "      <th>CVDSTRK3</th>\n",
       "      <th>SEXVAR</th>\n",
       "      <th>CVDINFR4</th>\n",
       "      <th>X_AGE_G</th>\n",
       "      <th>X_IMPRACE</th>\n",
       "      <th>EXERANY2</th>\n",
       "      <th>GENHLTH</th>\n",
       "      <th>CHCKDNY2</th>\n",
       "      <th>X_PHYS14D</th>\n",
       "      <th>CHCOCNCR</th>\n",
       "      <th>CHCCOPD2</th>\n",
       "      <th>MARITAL</th>\n",
       "      <th>DIFFWALK</th>\n",
       "    </tr>\n",
       "  </thead>\n",
       "  <tbody>\n",
       "    <tr>\n",
       "      <th>0</th>\n",
       "      <td>1.0</td>\n",
       "      <td>1</td>\n",
       "      <td>2.0</td>\n",
       "      <td>2</td>\n",
       "      <td>2.0</td>\n",
       "      <td>5</td>\n",
       "      <td>1</td>\n",
       "      <td>1.0</td>\n",
       "      <td>2.0</td>\n",
       "      <td>2.0</td>\n",
       "      <td>2</td>\n",
       "      <td>1.0</td>\n",
       "      <td>1.0</td>\n",
       "      <td>2.0</td>\n",
       "      <td>2.0</td>\n",
       "    </tr>\n",
       "    <tr>\n",
       "      <th>1</th>\n",
       "      <td>3.0</td>\n",
       "      <td>9</td>\n",
       "      <td>2.0</td>\n",
       "      <td>2</td>\n",
       "      <td>2.0</td>\n",
       "      <td>6</td>\n",
       "      <td>2</td>\n",
       "      <td>1.0</td>\n",
       "      <td>3.0</td>\n",
       "      <td>2.0</td>\n",
       "      <td>1</td>\n",
       "      <td>2.0</td>\n",
       "      <td>2.0</td>\n",
       "      <td>3.0</td>\n",
       "      <td>2.0</td>\n",
       "    </tr>\n",
       "    <tr>\n",
       "      <th>2</th>\n",
       "      <td>3.0</td>\n",
       "      <td>4</td>\n",
       "      <td>2.0</td>\n",
       "      <td>2</td>\n",
       "      <td>2.0</td>\n",
       "      <td>6</td>\n",
       "      <td>2</td>\n",
       "      <td>1.0</td>\n",
       "      <td>3.0</td>\n",
       "      <td>2.0</td>\n",
       "      <td>1</td>\n",
       "      <td>1.0</td>\n",
       "      <td>2.0</td>\n",
       "      <td>1.0</td>\n",
       "      <td>2.0</td>\n",
       "    </tr>\n",
       "    <tr>\n",
       "      <th>3</th>\n",
       "      <td>3.0</td>\n",
       "      <td>4</td>\n",
       "      <td>2.0</td>\n",
       "      <td>2</td>\n",
       "      <td>2.0</td>\n",
       "      <td>6</td>\n",
       "      <td>1</td>\n",
       "      <td>2.0</td>\n",
       "      <td>1.0</td>\n",
       "      <td>2.0</td>\n",
       "      <td>1</td>\n",
       "      <td>2.0</td>\n",
       "      <td>2.0</td>\n",
       "      <td>3.0</td>\n",
       "      <td>2.0</td>\n",
       "    </tr>\n",
       "    <tr>\n",
       "      <th>4</th>\n",
       "      <td>2.0</td>\n",
       "      <td>4</td>\n",
       "      <td>1.0</td>\n",
       "      <td>2</td>\n",
       "      <td>2.0</td>\n",
       "      <td>6</td>\n",
       "      <td>1</td>\n",
       "      <td>1.0</td>\n",
       "      <td>2.0</td>\n",
       "      <td>2.0</td>\n",
       "      <td>1</td>\n",
       "      <td>2.0</td>\n",
       "      <td>2.0</td>\n",
       "      <td>3.0</td>\n",
       "      <td>2.0</td>\n",
       "    </tr>\n",
       "  </tbody>\n",
       "</table>\n",
       "</div>"
      ],
      "text/plain": [
       "   X_BMI5CAT  X_SMOKER3  CVDSTRK3  SEXVAR  CVDINFR4  X_AGE_G  X_IMPRACE  \\\n",
       "0        1.0          1       2.0       2       2.0        5          1   \n",
       "1        3.0          9       2.0       2       2.0        6          2   \n",
       "2        3.0          4       2.0       2       2.0        6          2   \n",
       "3        3.0          4       2.0       2       2.0        6          1   \n",
       "4        2.0          4       1.0       2       2.0        6          1   \n",
       "\n",
       "   EXERANY2  GENHLTH  CHCKDNY2  X_PHYS14D  CHCOCNCR  CHCCOPD2  MARITAL  \\\n",
       "0       1.0      2.0       2.0          2       1.0       1.0      2.0   \n",
       "1       1.0      3.0       2.0          1       2.0       2.0      3.0   \n",
       "2       1.0      3.0       2.0          1       1.0       2.0      1.0   \n",
       "3       2.0      1.0       2.0          1       2.0       2.0      3.0   \n",
       "4       1.0      2.0       2.0          1       2.0       2.0      3.0   \n",
       "\n",
       "   DIFFWALK  \n",
       "0       2.0  \n",
       "1       2.0  \n",
       "2       2.0  \n",
       "3       2.0  \n",
       "4       2.0  "
      ]
     },
     "execution_count": 52,
     "metadata": {},
     "output_type": "execute_result"
    }
   ],
   "source": [
    "X_res = X_res[['X_BMI5CAT','X_SMOKER3','CVDSTRK3','SEXVAR','CVDINFR4'\n",
    "            ,'X_AGE_G','X_IMPRACE','EXERANY2','GENHLTH',\n",
    "             'CHCKDNY2','X_PHYS14D','CHCOCNCR','CHCCOPD2','MARITAL','DIFFWALK']]\n",
    "X_res.head()"
   ]
  },
  {
   "cell_type": "code",
   "execution_count": 53,
   "metadata": {
    "id": "H_ej4ewyQg5x"
   },
   "outputs": [],
   "source": [
    "from sklearn.model_selection import train_test_split\n",
    "X_train, X_test, y_train, y_test = train_test_split(X_res, y_res, test_size=0.33, random_state=0)"
   ]
  },
  {
   "cell_type": "code",
   "execution_count": 54,
   "metadata": {
    "colab": {
     "base_uri": "https://localhost:8080/",
     "height": 270
    },
    "id": "J9k747m6Qm2g",
    "outputId": "eb551786-11d9-4145-fe85-aedbc2be832e"
   },
   "outputs": [
    {
     "data": {
      "text/html": [
       "<div>\n",
       "<style scoped>\n",
       "    .dataframe tbody tr th:only-of-type {\n",
       "        vertical-align: middle;\n",
       "    }\n",
       "\n",
       "    .dataframe tbody tr th {\n",
       "        vertical-align: top;\n",
       "    }\n",
       "\n",
       "    .dataframe thead th {\n",
       "        text-align: right;\n",
       "    }\n",
       "</style>\n",
       "<table border=\"1\" class=\"dataframe\">\n",
       "  <thead>\n",
       "    <tr style=\"text-align: right;\">\n",
       "      <th></th>\n",
       "      <th>X_BMI5CAT</th>\n",
       "      <th>X_SMOKER3</th>\n",
       "      <th>CVDSTRK3</th>\n",
       "      <th>SEXVAR</th>\n",
       "      <th>CVDINFR4</th>\n",
       "      <th>X_AGE_G</th>\n",
       "      <th>X_IMPRACE</th>\n",
       "      <th>EXERANY2</th>\n",
       "      <th>GENHLTH</th>\n",
       "      <th>CHCKDNY2</th>\n",
       "      <th>X_PHYS14D</th>\n",
       "      <th>CHCOCNCR</th>\n",
       "      <th>CHCCOPD2</th>\n",
       "      <th>MARITAL</th>\n",
       "      <th>DIFFWALK</th>\n",
       "    </tr>\n",
       "  </thead>\n",
       "  <tbody>\n",
       "    <tr>\n",
       "      <th>108792</th>\n",
       "      <td>3.0</td>\n",
       "      <td>3</td>\n",
       "      <td>2.0</td>\n",
       "      <td>2</td>\n",
       "      <td>2.0</td>\n",
       "      <td>5</td>\n",
       "      <td>1</td>\n",
       "      <td>2.0</td>\n",
       "      <td>3.0</td>\n",
       "      <td>2.0</td>\n",
       "      <td>2</td>\n",
       "      <td>2.0</td>\n",
       "      <td>2.0</td>\n",
       "      <td>1.0</td>\n",
       "      <td>2.0</td>\n",
       "    </tr>\n",
       "    <tr>\n",
       "      <th>250338</th>\n",
       "      <td>3.0</td>\n",
       "      <td>4</td>\n",
       "      <td>2.0</td>\n",
       "      <td>1</td>\n",
       "      <td>2.0</td>\n",
       "      <td>2</td>\n",
       "      <td>4</td>\n",
       "      <td>1.0</td>\n",
       "      <td>3.0</td>\n",
       "      <td>2.0</td>\n",
       "      <td>1</td>\n",
       "      <td>2.0</td>\n",
       "      <td>2.0</td>\n",
       "      <td>5.0</td>\n",
       "      <td>2.0</td>\n",
       "    </tr>\n",
       "    <tr>\n",
       "      <th>170857</th>\n",
       "      <td>4.0</td>\n",
       "      <td>4</td>\n",
       "      <td>2.0</td>\n",
       "      <td>1</td>\n",
       "      <td>2.0</td>\n",
       "      <td>6</td>\n",
       "      <td>1</td>\n",
       "      <td>2.0</td>\n",
       "      <td>3.0</td>\n",
       "      <td>7.0</td>\n",
       "      <td>1</td>\n",
       "      <td>2.0</td>\n",
       "      <td>2.0</td>\n",
       "      <td>1.0</td>\n",
       "      <td>2.0</td>\n",
       "    </tr>\n",
       "    <tr>\n",
       "      <th>725015</th>\n",
       "      <td>4.0</td>\n",
       "      <td>2</td>\n",
       "      <td>2.0</td>\n",
       "      <td>1</td>\n",
       "      <td>2.0</td>\n",
       "      <td>5</td>\n",
       "      <td>1</td>\n",
       "      <td>1.0</td>\n",
       "      <td>3.0</td>\n",
       "      <td>2.0</td>\n",
       "      <td>1</td>\n",
       "      <td>1.0</td>\n",
       "      <td>1.0</td>\n",
       "      <td>1.0</td>\n",
       "      <td>2.0</td>\n",
       "    </tr>\n",
       "    <tr>\n",
       "      <th>511603</th>\n",
       "      <td>4.0</td>\n",
       "      <td>1</td>\n",
       "      <td>2.0</td>\n",
       "      <td>2</td>\n",
       "      <td>1.0</td>\n",
       "      <td>6</td>\n",
       "      <td>1</td>\n",
       "      <td>2.0</td>\n",
       "      <td>4.0</td>\n",
       "      <td>1.0</td>\n",
       "      <td>3</td>\n",
       "      <td>2.0</td>\n",
       "      <td>2.0</td>\n",
       "      <td>4.0</td>\n",
       "      <td>1.0</td>\n",
       "    </tr>\n",
       "  </tbody>\n",
       "</table>\n",
       "</div>"
      ],
      "text/plain": [
       "        X_BMI5CAT  X_SMOKER3  CVDSTRK3  SEXVAR  CVDINFR4  X_AGE_G  X_IMPRACE  \\\n",
       "108792        3.0          3       2.0       2       2.0        5          1   \n",
       "250338        3.0          4       2.0       1       2.0        2          4   \n",
       "170857        4.0          4       2.0       1       2.0        6          1   \n",
       "725015        4.0          2       2.0       1       2.0        5          1   \n",
       "511603        4.0          1       2.0       2       1.0        6          1   \n",
       "\n",
       "        EXERANY2  GENHLTH  CHCKDNY2  X_PHYS14D  CHCOCNCR  CHCCOPD2  MARITAL  \\\n",
       "108792       2.0      3.0       2.0          2       2.0       2.0      1.0   \n",
       "250338       1.0      3.0       2.0          1       2.0       2.0      5.0   \n",
       "170857       2.0      3.0       7.0          1       2.0       2.0      1.0   \n",
       "725015       1.0      3.0       2.0          1       1.0       1.0      1.0   \n",
       "511603       2.0      4.0       1.0          3       2.0       2.0      4.0   \n",
       "\n",
       "        DIFFWALK  \n",
       "108792       2.0  \n",
       "250338       2.0  \n",
       "170857       2.0  \n",
       "725015       2.0  \n",
       "511603       1.0  "
      ]
     },
     "execution_count": 54,
     "metadata": {},
     "output_type": "execute_result"
    }
   ],
   "source": [
    "X_train.head()"
   ]
  },
  {
   "cell_type": "code",
   "execution_count": 55,
   "metadata": {
    "colab": {
     "base_uri": "https://localhost:8080/",
     "height": 270
    },
    "id": "ZgXK3WAcRoNx",
    "outputId": "c10b3faf-0ab4-467d-ab9f-c12650f3f42f"
   },
   "outputs": [
    {
     "data": {
      "text/html": [
       "<div>\n",
       "<style scoped>\n",
       "    .dataframe tbody tr th:only-of-type {\n",
       "        vertical-align: middle;\n",
       "    }\n",
       "\n",
       "    .dataframe tbody tr th {\n",
       "        vertical-align: top;\n",
       "    }\n",
       "\n",
       "    .dataframe thead th {\n",
       "        text-align: right;\n",
       "    }\n",
       "</style>\n",
       "<table border=\"1\" class=\"dataframe\">\n",
       "  <thead>\n",
       "    <tr style=\"text-align: right;\">\n",
       "      <th></th>\n",
       "      <th>X_BMI5CAT</th>\n",
       "      <th>X_SMOKER3</th>\n",
       "      <th>CVDSTRK3</th>\n",
       "      <th>SEXVAR</th>\n",
       "      <th>CVDINFR4</th>\n",
       "      <th>X_AGE_G</th>\n",
       "      <th>X_IMPRACE</th>\n",
       "      <th>EXERANY2</th>\n",
       "      <th>GENHLTH</th>\n",
       "      <th>CHCKDNY2</th>\n",
       "      <th>X_PHYS14D</th>\n",
       "      <th>CHCOCNCR</th>\n",
       "      <th>CHCCOPD2</th>\n",
       "      <th>MARITAL</th>\n",
       "      <th>DIFFWALK</th>\n",
       "    </tr>\n",
       "  </thead>\n",
       "  <tbody>\n",
       "    <tr>\n",
       "      <th>531629</th>\n",
       "      <td>3.0</td>\n",
       "      <td>4</td>\n",
       "      <td>2.0</td>\n",
       "      <td>1</td>\n",
       "      <td>1.0</td>\n",
       "      <td>6</td>\n",
       "      <td>5</td>\n",
       "      <td>1.0</td>\n",
       "      <td>3.0</td>\n",
       "      <td>2.0</td>\n",
       "      <td>1</td>\n",
       "      <td>2.0</td>\n",
       "      <td>2.0</td>\n",
       "      <td>1.0</td>\n",
       "      <td>2.0</td>\n",
       "    </tr>\n",
       "    <tr>\n",
       "      <th>32259</th>\n",
       "      <td>2.0</td>\n",
       "      <td>4</td>\n",
       "      <td>2.0</td>\n",
       "      <td>1</td>\n",
       "      <td>2.0</td>\n",
       "      <td>1</td>\n",
       "      <td>6</td>\n",
       "      <td>1.0</td>\n",
       "      <td>2.0</td>\n",
       "      <td>2.0</td>\n",
       "      <td>1</td>\n",
       "      <td>2.0</td>\n",
       "      <td>2.0</td>\n",
       "      <td>5.0</td>\n",
       "      <td>2.0</td>\n",
       "    </tr>\n",
       "    <tr>\n",
       "      <th>135309</th>\n",
       "      <td>3.0</td>\n",
       "      <td>3</td>\n",
       "      <td>2.0</td>\n",
       "      <td>2</td>\n",
       "      <td>2.0</td>\n",
       "      <td>6</td>\n",
       "      <td>1</td>\n",
       "      <td>1.0</td>\n",
       "      <td>4.0</td>\n",
       "      <td>2.0</td>\n",
       "      <td>3</td>\n",
       "      <td>2.0</td>\n",
       "      <td>7.0</td>\n",
       "      <td>3.0</td>\n",
       "      <td>1.0</td>\n",
       "    </tr>\n",
       "    <tr>\n",
       "      <th>558030</th>\n",
       "      <td>2.0</td>\n",
       "      <td>1</td>\n",
       "      <td>2.0</td>\n",
       "      <td>1</td>\n",
       "      <td>2.0</td>\n",
       "      <td>4</td>\n",
       "      <td>1</td>\n",
       "      <td>1.0</td>\n",
       "      <td>3.0</td>\n",
       "      <td>2.0</td>\n",
       "      <td>1</td>\n",
       "      <td>2.0</td>\n",
       "      <td>2.0</td>\n",
       "      <td>1.0</td>\n",
       "      <td>2.0</td>\n",
       "    </tr>\n",
       "    <tr>\n",
       "      <th>323548</th>\n",
       "      <td>3.0</td>\n",
       "      <td>3</td>\n",
       "      <td>1.0</td>\n",
       "      <td>2</td>\n",
       "      <td>2.0</td>\n",
       "      <td>6</td>\n",
       "      <td>1</td>\n",
       "      <td>1.0</td>\n",
       "      <td>4.0</td>\n",
       "      <td>2.0</td>\n",
       "      <td>1</td>\n",
       "      <td>2.0</td>\n",
       "      <td>2.0</td>\n",
       "      <td>3.0</td>\n",
       "      <td>2.0</td>\n",
       "    </tr>\n",
       "  </tbody>\n",
       "</table>\n",
       "</div>"
      ],
      "text/plain": [
       "        X_BMI5CAT  X_SMOKER3  CVDSTRK3  SEXVAR  CVDINFR4  X_AGE_G  X_IMPRACE  \\\n",
       "531629        3.0          4       2.0       1       1.0        6          5   \n",
       "32259         2.0          4       2.0       1       2.0        1          6   \n",
       "135309        3.0          3       2.0       2       2.0        6          1   \n",
       "558030        2.0          1       2.0       1       2.0        4          1   \n",
       "323548        3.0          3       1.0       2       2.0        6          1   \n",
       "\n",
       "        EXERANY2  GENHLTH  CHCKDNY2  X_PHYS14D  CHCOCNCR  CHCCOPD2  MARITAL  \\\n",
       "531629       1.0      3.0       2.0          1       2.0       2.0      1.0   \n",
       "32259        1.0      2.0       2.0          1       2.0       2.0      5.0   \n",
       "135309       1.0      4.0       2.0          3       2.0       7.0      3.0   \n",
       "558030       1.0      3.0       2.0          1       2.0       2.0      1.0   \n",
       "323548       1.0      4.0       2.0          1       2.0       2.0      3.0   \n",
       "\n",
       "        DIFFWALK  \n",
       "531629       2.0  \n",
       "32259        2.0  \n",
       "135309       1.0  \n",
       "558030       2.0  \n",
       "323548       2.0  "
      ]
     },
     "execution_count": 55,
     "metadata": {},
     "output_type": "execute_result"
    }
   ],
   "source": [
    "X_test.head()"
   ]
  },
  {
   "cell_type": "code",
   "execution_count": 56,
   "metadata": {
    "colab": {
     "base_uri": "https://localhost:8080/"
    },
    "id": "2oCeALZaRxjh",
    "outputId": "3547c9c9-98a4-4e3d-fb83-891941b59a43"
   },
   "outputs": [
    {
     "data": {
      "text/plain": [
       "108792    0.0\n",
       "250338    0.0\n",
       "170857    0.0\n",
       "725015    1.0\n",
       "511603    1.0\n",
       "Name: X_MICHD, dtype: float64"
      ]
     },
     "execution_count": 56,
     "metadata": {},
     "output_type": "execute_result"
    }
   ],
   "source": [
    "y_train.head()"
   ]
  },
  {
   "cell_type": "code",
   "execution_count": 57,
   "metadata": {
    "colab": {
     "base_uri": "https://localhost:8080/"
    },
    "id": "B0ONj05-R1aB",
    "outputId": "abf0ea11-cf7b-40ed-ecdc-b846d11ac9a3"
   },
   "outputs": [
    {
     "data": {
      "text/plain": [
       "531629    1.0\n",
       "32259     0.0\n",
       "135309    0.0\n",
       "558030    1.0\n",
       "323548    1.0\n",
       "Name: X_MICHD, dtype: float64"
      ]
     },
     "execution_count": 57,
     "metadata": {},
     "output_type": "execute_result"
    }
   ],
   "source": [
    "y_test.head()"
   ]
  },
  {
   "cell_type": "markdown",
   "metadata": {
    "id": "oTfA1qPOTsLE"
   },
   "source": [
    "# 1. Logistic regression"
   ]
  },
  {
   "cell_type": "code",
   "execution_count": 58,
   "metadata": {
    "colab": {
     "base_uri": "https://localhost:8080/"
    },
    "id": "6z4Mu7lYR4kx",
    "outputId": "e519af68-1804-44b8-929d-d171fa227fcc"
   },
   "outputs": [
    {
     "data": {
      "text/plain": [
       "LogisticRegression()"
      ]
     },
     "execution_count": 58,
     "metadata": {},
     "output_type": "execute_result"
    }
   ],
   "source": [
    "from sklearn import linear_model\n",
    "logr = linear_model.LogisticRegression()\n",
    "logr.fit(X_train,y_train)"
   ]
  },
  {
   "cell_type": "code",
   "execution_count": 59,
   "metadata": {
    "id": "9i6WCMcFTLOb"
   },
   "outputs": [],
   "source": [
    "log_pred=logr.predict(X_test)"
   ]
  },
  {
   "cell_type": "code",
   "execution_count": 60,
   "metadata": {
    "colab": {
     "base_uri": "https://localhost:8080/",
     "height": 416
    },
    "id": "9v10K9xnTUNx",
    "outputId": "55191016-ab55-48b1-b3f4-92f195248d71"
   },
   "outputs": [
    {
     "data": {
      "image/png": "[encoded data removed]",
      "text/plain": [
       "<Figure size 600x600 with 1 Axes>"
      ]
     },
     "metadata": {},
     "output_type": "display_data"
    }
   ],
   "source": [
    "import matplotlib.pyplot as plt\n",
    "from sklearn.metrics import confusion_matrix,accuracy_score\n",
    "cm = confusion_matrix(y_test, log_pred)\n",
    "from mlxtend.plotting import plot_confusion_matrix\n",
    "fig, ax = plot_confusion_matrix(conf_mat=cm, figsize=(6, 6), cmap=plt.cm.Greens)\n",
    "plt.xlabel('Predictions', fontsize=18)\n",
    "plt.ylabel('Actuals', fontsize=18)\n",
    "plt.title('Confusion Matrix', fontsize=18)\n",
    "plt.show()"
   ]
  },
  {
   "cell_type": "code",
   "execution_count": 61,
   "metadata": {
    "colab": {
     "base_uri": "https://localhost:8080/"
    },
    "id": "ECiIyoWQlQM9",
    "outputId": "61e795ae-fc5d-4cd8-dfba-ffe6b27763f4"
   },
   "outputs": [
    {
     "data": {
      "text/plain": [
       "0.8436095491153268"
      ]
     },
     "execution_count": 61,
     "metadata": {},
     "output_type": "execute_result"
    }
   ],
   "source": [
    "from sklearn.metrics import accuracy_score\n",
    "accuracy_score(y_test,log_pred)"
   ]
  },
  {
   "cell_type": "code",
   "execution_count": 62,
   "metadata": {
    "colab": {
     "base_uri": "https://localhost:8080/"
    },
    "id": "JOS6W5UtTgFT",
    "outputId": "365c4550-5603-42ab-8213-a340a1217f5b"
   },
   "outputs": [
    {
     "name": "stdout",
     "output_type": "stream",
     "text": [
      "              precision    recall  f1-score   support\n",
      "\n",
      "         0.0       0.82      0.89      0.85    121354\n",
      "         1.0       0.88      0.80      0.84    121391\n",
      "\n",
      "    accuracy                           0.84    242745\n",
      "   macro avg       0.85      0.84      0.84    242745\n",
      "weighted avg       0.85      0.84      0.84    242745\n",
      "\n"
     ]
    }
   ],
   "source": [
    "from sklearn.metrics import classification_report\n",
    "print(classification_report(y_test,log_pred))"
   ]
  },
  {
   "cell_type": "markdown",
   "metadata": {
    "id": "wMBTekKuVXgr"
   },
   "source": [
    "# 2. Discision Tree"
   ]
  },
  {
   "cell_type": "code",
   "execution_count": 63,
   "metadata": {
    "colab": {
     "base_uri": "https://localhost:8080/"
    },
    "id": "RlY3gNjJTxxU",
    "outputId": "dcbebffe-e521-4741-c0d1-a0242cb588ee"
   },
   "outputs": [
    {
     "data": {
      "text/plain": [
       "DecisionTreeClassifier(criterion='entropy', random_state=0)"
      ]
     },
     "execution_count": 63,
     "metadata": {},
     "output_type": "execute_result"
    }
   ],
   "source": [
    "from sklearn.tree import DecisionTreeClassifier  \n",
    "classifier= DecisionTreeClassifier(criterion='entropy', random_state=0)  \n",
    "classifier.fit(X_train, y_train) "
   ]
  },
  {
   "cell_type": "code",
   "execution_count": 64,
   "metadata": {
    "id": "bWkKIQVKWoS3"
   },
   "outputs": [],
   "source": [
    "decision_pred=classifier.predict(X_test)"
   ]
  },
  {
   "cell_type": "code",
   "execution_count": 65,
   "metadata": {
    "colab": {
     "base_uri": "https://localhost:8080/",
     "height": 416
    },
    "id": "9LrtgGQaWq9R",
    "outputId": "3e0ec4af-8bb6-4cb9-8cc0-50cd2e86a90c"
   },
   "outputs": [
    {
     "data": {
      "image/png": "[encoded data removed]",
      "text/plain": [
       "<Figure size 600x600 with 1 Axes>"
      ]
     },
     "metadata": {},
     "output_type": "display_data"
    }
   ],
   "source": [
    "import matplotlib.pyplot as plt\n",
    "from sklearn.metrics import confusion_matrix,accuracy_score\n",
    "cm = confusion_matrix(y_test, decision_pred)\n",
    "from mlxtend.plotting import plot_confusion_matrix\n",
    "fig, ax = plot_confusion_matrix(conf_mat=cm, figsize=(6, 6), cmap=plt.cm.Greens)\n",
    "plt.xlabel('Predictions', fontsize=18)\n",
    "plt.ylabel('Actuals', fontsize=18)\n",
    "plt.title('Confusion Matrix', fontsize=18)\n",
    "plt.show()"
   ]
  },
  {
   "cell_type": "code",
   "execution_count": 66,
   "metadata": {
    "colab": {
     "base_uri": "https://localhost:8080/"
    },
    "id": "brxXf70XlX45",
    "outputId": "61ddfe3b-facc-42c7-8d56-dda9cf68187f"
   },
   "outputs": [
    {
     "data": {
      "text/plain": [
       "0.9154338915322664"
      ]
     },
     "execution_count": 66,
     "metadata": {},
     "output_type": "execute_result"
    }
   ],
   "source": [
    "from sklearn.metrics import accuracy_score\n",
    "accuracy_score(y_test,decision_pred)"
   ]
  },
  {
   "cell_type": "code",
   "execution_count": 67,
   "metadata": {
    "colab": {
     "base_uri": "https://localhost:8080/"
    },
    "id": "8kOal_qdWz3T",
    "outputId": "924a2e84-8100-445a-adbf-7cfad75f9cb6"
   },
   "outputs": [
    {
     "name": "stdout",
     "output_type": "stream",
     "text": [
      "              precision    recall  f1-score   support\n",
      "\n",
      "         0.0       0.91      0.92      0.92    121354\n",
      "         1.0       0.92      0.91      0.91    121391\n",
      "\n",
      "    accuracy                           0.92    242745\n",
      "   macro avg       0.92      0.92      0.92    242745\n",
      "weighted avg       0.92      0.92      0.92    242745\n",
      "\n"
     ]
    }
   ],
   "source": [
    "from sklearn.metrics import classification_report\n",
    "print(classification_report(y_test,decision_pred))"
   ]
  },
  {
   "cell_type": "markdown",
   "metadata": {
    "id": "Q0dyN0oZa4Bn"
   },
   "source": [
    "# 3. random forest"
   ]
  },
  {
   "cell_type": "code",
   "execution_count": 68,
   "metadata": {
    "colab": {
     "base_uri": "https://localhost:8080/"
    },
    "id": "KUk9cjI6bA13",
    "outputId": "73887d41-d214-4e03-cdf8-e1c108e9df20"
   },
   "outputs": [
    {
     "data": {
      "text/plain": [
       "RandomForestClassifier(criterion='entropy', n_estimators=10)"
      ]
     },
     "execution_count": 68,
     "metadata": {},
     "output_type": "execute_result"
    }
   ],
   "source": [
    "from sklearn.ensemble import RandomForestClassifier  \n",
    "random_classifier= RandomForestClassifier(n_estimators= 10, criterion=\"entropy\")  \n",
    "random_classifier.fit(X_train, y_train)  "
   ]
  },
  {
   "cell_type": "code",
   "execution_count": 69,
   "metadata": {
    "id": "Z4gb9ESVbZ1c"
   },
   "outputs": [],
   "source": [
    "random_pred=random_classifier.predict(X_test)"
   ]
  },
  {
   "cell_type": "code",
   "execution_count": 70,
   "metadata": {
    "colab": {
     "base_uri": "https://localhost:8080/",
     "height": 416
    },
    "id": "28C3Yyqjbe8T",
    "outputId": "13aea48c-8d51-4dd6-b25b-b668d770eb1f"
   },
   "outputs": [
    {
     "data": {
      "image/png": "[encoded data removed]",
      "text/plain": [
       "<Figure size 600x600 with 1 Axes>"
      ]
     },
     "metadata": {},
     "output_type": "display_data"
    }
   ],
   "source": [
    "import matplotlib.pyplot as plt\n",
    "from sklearn.metrics import confusion_matrix,accuracy_score\n",
    "cm = confusion_matrix(y_test, random_pred)\n",
    "from mlxtend.plotting import plot_confusion_matrix\n",
    "fig, ax = plot_confusion_matrix(conf_mat=cm, figsize=(6, 6), cmap=plt.cm.Greens)\n",
    "plt.xlabel('Predictions', fontsize=18)\n",
    "plt.ylabel('Actuals', fontsize=18)\n",
    "plt.title('Confusion Matrix', fontsize=18)\n",
    "plt.show()"
   ]
  },
  {
   "cell_type": "code",
   "execution_count": 71,
   "metadata": {
    "colab": {
     "base_uri": "https://localhost:8080/"
    },
    "id": "5utQiTdOlbuh",
    "outputId": "55cce5f7-2549-42a6-ab83-26768253d5e4"
   },
   "outputs": [
    {
     "data": {
      "text/plain": [
       "0.921020000411955"
      ]
     },
     "execution_count": 71,
     "metadata": {},
     "output_type": "execute_result"
    }
   ],
   "source": [
    "from sklearn.metrics import accuracy_score\n",
    "accuracy_score(y_test,random_pred)"
   ]
  },
  {
   "cell_type": "code",
   "execution_count": 72,
   "metadata": {
    "colab": {
     "base_uri": "https://localhost:8080/"
    },
    "id": "4q3MUJ9ZbjhQ",
    "outputId": "d292e731-6df4-488b-bdb3-45a108b98c7e"
   },
   "outputs": [
    {
     "name": "stdout",
     "output_type": "stream",
     "text": [
      "              precision    recall  f1-score   support\n",
      "\n",
      "         0.0       0.91      0.93      0.92    121354\n",
      "         1.0       0.93      0.91      0.92    121391\n",
      "\n",
      "    accuracy                           0.92    242745\n",
      "   macro avg       0.92      0.92      0.92    242745\n",
      "weighted avg       0.92      0.92      0.92    242745\n",
      "\n"
     ]
    }
   ],
   "source": [
    "from sklearn.metrics import classification_report\n",
    "print(classification_report(y_test,random_pred))"
   ]
  },
  {
   "cell_type": "markdown",
   "metadata": {
    "id": "ASRpgIBTb8mO"
   },
   "source": [
    "# 4. support vector machine"
   ]
  },
  {
   "cell_type": "code",
   "execution_count": 73,
   "metadata": {
    "id": "6h3IlFKKbupg"
   },
   "outputs": [],
   "source": [
    "#from sklearn.svm import SVC # \"Support vector classifier\"  \n",
    "#svm_classifier = SVC(kernel='linear', random_state=0)  \n",
    "#svm_classifier.fit(X_train, y_train) "
   ]
  },
  {
   "cell_type": "markdown",
   "metadata": {
    "id": "-MrUrUVkfzqS"
   },
   "source": []
  },
  {
   "cell_type": "markdown",
   "metadata": {
    "id": "BIs802xrgCWg"
   },
   "source": [
    "# 5. naive based algorithm"
   ]
  },
  {
   "cell_type": "code",
   "execution_count": 74,
   "metadata": {
    "colab": {
     "base_uri": "https://localhost:8080/"
    },
    "id": "PeD4yp4ifzP6",
    "outputId": "bd938c8b-858e-4fa6-88c2-1c3110a9e035"
   },
   "outputs": [
    {
     "data": {
      "text/plain": [
       "GaussianNB()"
      ]
     },
     "execution_count": 74,
     "metadata": {},
     "output_type": "execute_result"
    }
   ],
   "source": [
    "from sklearn.naive_bayes import GaussianNB  \n",
    "NB_classifier = GaussianNB()  \n",
    "NB_classifier.fit(X_train, y_train)  "
   ]
  },
  {
   "cell_type": "code",
   "execution_count": 75,
   "metadata": {
    "id": "5dKxAisljkHL"
   },
   "outputs": [],
   "source": [
    "NB_pred=classifier.predict(X_test)"
   ]
  },
  {
   "cell_type": "code",
   "execution_count": 76,
   "metadata": {
    "colab": {
     "base_uri": "https://localhost:8080/",
     "height": 416
    },
    "id": "Nvc1NOqaiztw",
    "outputId": "834b4ecf-8c51-47e1-bd49-71d51baf92e5"
   },
   "outputs": [
    {
     "data": {
      "image/png": "[encoded data removed]",
      "text/plain": [
       "<Figure size 600x600 with 1 Axes>"
      ]
     },
     "metadata": {},
     "output_type": "display_data"
    }
   ],
   "source": [
    "import matplotlib.pyplot as plt\n",
    "from sklearn.metrics import confusion_matrix,accuracy_score\n",
    "cm = confusion_matrix(y_test, NB_pred)\n",
    "from mlxtend.plotting import plot_confusion_matrix\n",
    "fig, ax = plot_confusion_matrix(conf_mat=cm, figsize=(6, 6), cmap=plt.cm.Greens)\n",
    "plt.xlabel('Predictions', fontsize=18)\n",
    "plt.ylabel('Actuals', fontsize=18)\n",
    "plt.title('Confusion Matrix', fontsize=18)\n",
    "plt.show()"
   ]
  },
  {
   "cell_type": "code",
   "execution_count": 77,
   "metadata": {
    "colab": {
     "base_uri": "https://localhost:8080/"
    },
    "id": "tnp_K7_Ljqav",
    "outputId": "bb8f0e78-dd87-48b4-fa5f-b2c689568dc5"
   },
   "outputs": [
    {
     "name": "stdout",
     "output_type": "stream",
     "text": [
      "              precision    recall  f1-score   support\n",
      "\n",
      "         0.0       0.91      0.92      0.92    121354\n",
      "         1.0       0.92      0.91      0.91    121391\n",
      "\n",
      "    accuracy                           0.92    242745\n",
      "   macro avg       0.92      0.92      0.92    242745\n",
      "weighted avg       0.92      0.92      0.92    242745\n",
      "\n"
     ]
    }
   ],
   "source": [
    "from sklearn.metrics import classification_report\n",
    "print(classification_report(y_test,NB_pred))"
   ]
  },
  {
   "cell_type": "markdown",
   "metadata": {
    "id": "NFqh91k_o_45"
   },
   "source": [
    "# 6. XGBClassifier"
   ]
  },
  {
   "cell_type": "code",
   "execution_count": 78,
   "metadata": {
    "colab": {
     "base_uri": "https://localhost:8080/"
    },
    "id": "9FgokFo5jxs-",
    "outputId": "d1b71c47-c907-4d49-c6d8-b2d947df901e"
   },
   "outputs": [
    {
     "data": {
      "text/plain": [
       "XGBClassifier(base_score=None, booster=None, callbacks=None,\n",
       "              colsample_bylevel=None, colsample_bynode=None,\n",
       "              colsample_bytree=None, early_stopping_rounds=None,\n",
       "              enable_categorical=False, eval_metric=None, feature_types=None,\n",
       "              gamma=None, gpu_id=None, grow_policy=None, importance_type=None,\n",
       "              interaction_constraints=None, learning_rate=None, max_bin=None,\n",
       "              max_cat_threshold=None, max_cat_to_onehot=None,\n",
       "              max_delta_step=None, max_depth=None, max_leaves=None,\n",
       "              min_child_weight=None, missing=nan, monotone_constraints=None,\n",
       "              n_estimators=100, n_jobs=None, num_parallel_tree=None,\n",
       "              predictor=None, random_state=None, ...)"
      ]
     },
     "execution_count": 78,
     "metadata": {},
     "output_type": "execute_result"
    }
   ],
   "source": [
    "XGB_classifier= XGBClassifier()  \n",
    "XGB_classifier.fit(X_train , y_train)  \n",
    "  "
   ]
  },
  {
   "cell_type": "code",
   "execution_count": 79,
   "metadata": {
    "id": "Y8651HSHqfsU"
   },
   "outputs": [],
   "source": [
    "XGB_pred=XGB_classifier.predict(X_test)"
   ]
  },
  {
   "cell_type": "code",
   "execution_count": 80,
   "metadata": {
    "colab": {
     "base_uri": "https://localhost:8080/",
     "height": 416
    },
    "id": "DZpf4Hzbql9v",
    "outputId": "2feedef6-56a9-45cc-fc36-604fcfe5b65a"
   },
   "outputs": [
    {
     "data": {
      "image/png": "[encoded data removed]",
      "text/plain": [
       "<Figure size 600x600 with 1 Axes>"
      ]
     },
     "metadata": {},
     "output_type": "display_data"
    }
   ],
   "source": [
    "import matplotlib.pyplot as plt\n",
    "from sklearn.metrics import confusion_matrix,accuracy_score\n",
    "cm = confusion_matrix(y_test, XGB_pred)\n",
    "from mlxtend.plotting import plot_confusion_matrix\n",
    "fig, ax = plot_confusion_matrix(conf_mat=cm, figsize=(6, 6), cmap=plt.cm.Greens)\n",
    "plt.xlabel('Predictions', fontsize=18)\n",
    "plt.ylabel('Actuals', fontsize=18)\n",
    "plt.title('Confusion Matrix', fontsize=18)\n",
    "plt.show()"
   ]
  },
  {
   "cell_type": "code",
   "execution_count": 81,
   "metadata": {
    "colab": {
     "base_uri": "https://localhost:8080/"
    },
    "id": "go3YcNxoqyjB",
    "outputId": "189f5cfc-5021-459b-aeae-0228df0f83b7"
   },
   "outputs": [
    {
     "data": {
      "text/plain": [
       "0.8646192506539785"
      ]
     },
     "execution_count": 81,
     "metadata": {},
     "output_type": "execute_result"
    }
   ],
   "source": [
    "from sklearn.metrics import accuracy_score\n",
    "accuracy_score(y_test,XGB_pred)"
   ]
  },
  {
   "cell_type": "code",
   "execution_count": 82,
   "metadata": {
    "colab": {
     "base_uri": "https://localhost:8080/"
    },
    "id": "qGHrN8KIq4fv",
    "outputId": "f52164f8-2bdb-462a-ea51-d8f7b0882f26"
   },
   "outputs": [
    {
     "name": "stdout",
     "output_type": "stream",
     "text": [
      "              precision    recall  f1-score   support\n",
      "\n",
      "         0.0       0.84      0.91      0.87    121354\n",
      "         1.0       0.90      0.82      0.86    121391\n",
      "\n",
      "    accuracy                           0.86    242745\n",
      "   macro avg       0.87      0.86      0.86    242745\n",
      "weighted avg       0.87      0.86      0.86    242745\n",
      "\n"
     ]
    }
   ],
   "source": [
    "from sklearn.metrics import classification_report\n",
    "print(classification_report(y_test,XGB_pred))"
   ]
  },
  {
   "cell_type": "markdown",
   "metadata": {
    "id": "bBju5o2isXZx"
   },
   "source": [
    "#PICKLING MODEL FILE"
   ]
  },
  {
   "cell_type": "code",
   "execution_count": 85,
   "metadata": {
    "colab": {
     "base_uri": "https://localhost:8080/",
     "height": 190
    },
    "id": "f9vdkXXeq83_",
    "outputId": "ad104e7b-2ede-42da-99fd-3dfe2a98715a"
   },
   "outputs": [],
   "source": [
    "import pickle\n",
    "pickle.dump(XGB_classifier,open('random_classifier','wb'))"
   ]
  },
  {
   "cell_type": "code",
   "execution_count": null,
   "metadata": {
    "colab": {
     "base_uri": "https://localhost:8080/",
     "height": 36
    },
    "id": "WVL4PyHaycsu",
    "outputId": "5f66c725-2db7-49cd-a600-fd957f536526"
   },
   "outputs": [],
   "source": [
    "import os\n",
    "os.getcwd()"
   ]
  },
  {
   "cell_type": "code",
   "execution_count": null,
   "metadata": {
    "id": "tj1Etd83A6L8"
   },
   "outputs": [],
   "source": []
  }
 ],
 "metadata": {
  "colab": {
   "provenance": []
  },
  "kernelspec": {
   "display_name": "Python 3 (ipykernel)",
   "language": "python",
   "name": "python3"
  },
  "language_info": {
   "codemirror_mode": {
    "name": "ipython",
    "version": 3
   },
   "file_extension": ".py",
   "mimetype": "text/x-python",
   "name": "python",
   "nbconvert_exporter": "python",
   "pygments_lexer": "ipython3",
   "version": "3.9.13"
  }
 },
 "nbformat": 4,
 "nbformat_minor": 1
}
